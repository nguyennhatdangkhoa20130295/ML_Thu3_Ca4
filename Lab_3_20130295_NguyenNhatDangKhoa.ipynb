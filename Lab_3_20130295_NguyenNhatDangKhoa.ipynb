{
  "nbformat": 4,
  "nbformat_minor": 0,
  "metadata": {
    "colab": {
      "provenance": [],
      "include_colab_link": true
    },
    "kernelspec": {
      "name": "python3",
      "display_name": "Python 3"
    },
    "language_info": {
      "name": "python"
    }
  },
  "cells": [
    {
      "cell_type": "markdown",
      "metadata": {
        "id": "view-in-github",
        "colab_type": "text"
      },
      "source": [
        "<a href=\"https://colab.research.google.com/github/nguyennhatdangkhoa20130295/ML_Thu3_Ca4/blob/main/Lab_3_20130295_NguyenNhatDangKhoa.ipynb\" target=\"_parent\"><img src=\"https://colab.research.google.com/assets/colab-badge.svg\" alt=\"Open In Colab\"/></a>"
      ]
    },
    {
      "cell_type": "markdown",
      "source": [
        "**Deadline: 23:59, 04/03/2023**"
      ],
      "metadata": {
        "id": "KbeXZnmRRqin"
      }
    },
    {
      "cell_type": "markdown",
      "source": [
        "# Task 1. \n",
        "The main aim of this task is to get familiar with the tasks of preprocessing data using Scikit-learn – a Python-based Machine Learning framework and Linear Regression.\n"
      ],
      "metadata": {
        "id": "LMzehe0sy5wr"
      }
    },
    {
      "cell_type": "markdown",
      "source": [
        "For given 2 datasets (preprocessing_weather.csv, preprocessing_salary_dummy.csv), \n",
        "*   Identify issues with these datasets\n",
        "*   Then, apply preprocessing techniques to the datasets\n"
      ],
      "metadata": {
        "id": "Pck4yZk8KmyU"
      }
    },
    {
      "cell_type": "code",
      "source": [
        "from google.colab import drive\n",
        "drive.mount('/content/gdrive')\n",
        "%cd '/content/gdrive/MyDrive/ML'"
      ],
      "metadata": {
        "colab": {
          "base_uri": "https://localhost:8080/"
        },
        "id": "iElQXBLjHrh-",
        "outputId": "68fe9208-cc80-4843-82a4-ac5f7ba785e3"
      },
      "execution_count": null,
      "outputs": [
        {
          "output_type": "stream",
          "name": "stdout",
          "text": [
            "Mounted at /content/gdrive\n",
            "/content/gdrive/MyDrive/ML\n"
          ]
        }
      ]
    },
    {
      "cell_type": "code",
      "source": [
        "import numpy as np\n",
        "import pandas as pd \n",
        "from sklearn.impute import SimpleImputer\n",
        "from sklearn.linear_model import LinearRegression\n",
        "from sklearn import metrics\n",
        "from sklearn.model_selection import train_test_split"
      ],
      "metadata": {
        "id": "fq246z9iIFZd"
      },
      "execution_count": 98,
      "outputs": []
    },
    {
      "cell_type": "markdown",
      "source": [
        "#Task 1.1. Dataset preprocessing_weather.csv"
      ],
      "metadata": {
        "id": "H4nJmxp9zGX4"
      }
    },
    {
      "cell_type": "markdown",
      "source": [
        "**Issues**:\n",
        "\n",
        "\n",
        "1.   List item\n",
        "2.   List item\n",
        "3.   List item\n",
        "4.   List item\n",
        "....\n",
        "\n"
      ],
      "metadata": {
        "id": "3_RXE803Sb_h"
      }
    },
    {
      "cell_type": "markdown",
      "source": [
        "**Preprocessing dataset**:"
      ],
      "metadata": {
        "id": "WIVGBnAnSo-Q"
      }
    },
    {
      "cell_type": "code",
      "source": [
        "#code\n",
        "dataset = pd.read_csv(\"preprocessing_weather.csv\")\n",
        "\n",
        "imputer = SimpleImputer(missing_values=np.nan, strategy='mean')\n",
        "dataset[['temperature', 'humidity']] = imputer.fit_transform(dataset[['temperature', 'humidity']].values)\n",
        "dataset"
      ],
      "metadata": {
        "id": "hp-7wLFgSvTk"
      },
      "execution_count": null,
      "outputs": []
    },
    {
      "cell_type": "markdown",
      "source": [
        "#Task 1.2. Dataset preprocessing_salary_dummy.csv"
      ],
      "metadata": {
        "id": "GbFjDSGVS3Gg"
      }
    },
    {
      "cell_type": "markdown",
      "source": [
        "**Issues**:\n",
        "\n",
        "\n",
        "1.   List item\n",
        "2.   List item\n",
        "3.   List item\n",
        "4.   List item\n",
        "....\n",
        "\n"
      ],
      "metadata": {
        "id": "0lGRgoArS_5u"
      }
    },
    {
      "cell_type": "markdown",
      "source": [
        "**Preprocessing dataset**:"
      ],
      "metadata": {
        "id": "EPlB4J5fTCUD"
      }
    },
    {
      "cell_type": "code",
      "source": [
        "from tables.table import Column\n",
        "#code\n",
        "dataset = pd.read_csv(\"preprocessing_salary_dummy.csv\")\n",
        "imputer = SimpleImputer(missing_values=np.nan, strategy='mean')\n",
        "dataset[[' Age', '   Salary ']] = imputer.fit_transform(dataset[[' Age', '   Salary ']].values)\n",
        "print(dataset)\n",
        "\n",
        "dataset.columns = dataset.columns.str.replace(' ', '')\n",
        "dataset.columns\n",
        "dummies = pd.get_dummies(dataset.Country)\n",
        "print(dummies)\n",
        "\n",
        "merged = pd.concat([dataset, dummies], axis='columns')\n",
        "print(merged)"
      ],
      "metadata": {
        "id": "Q9skC5VxTDCd",
        "colab": {
          "base_uri": "https://localhost:8080/"
        },
        "outputId": "0bd2e7a6-1f6c-4ca9-8316-44273b258e31"
      },
      "execution_count": null,
      "outputs": [
        {
          "output_type": "stream",
          "name": "stdout",
          "text": [
            "   No    Country        Age       Salary  Purchased\n",
            "0   1     France  44.000000  72000.000000        No\n",
            "1   2      Spain  27.000000  48000.000000       Yes\n",
            "2   3    Germany  30.000000  54000.000000        No\n",
            "3   4      Spain  38.000000  61000.000000        No\n",
            "4   5    Germany  40.000000  63777.777778       Yes\n",
            "5   6     France  35.000000  58000.000000       Yes\n",
            "6   7      Spain  38.777778  52000.000000        No\n",
            "7   8     France  48.000000  79000.000000       Yes\n",
            "8   9    Germany  50.000000  83000.000000        No\n",
            "9  10     France  37.000000  67000.000000       Yes\n",
            "   France  Germany  Spain\n",
            "0       1        0      0\n",
            "1       0        0      1\n",
            "2       0        1      0\n",
            "3       0        0      1\n",
            "4       0        1      0\n",
            "5       1        0      0\n",
            "6       0        0      1\n",
            "7       1        0      0\n",
            "8       0        1      0\n",
            "9       1        0      0\n",
            "   No  Country        Age        Salary Purchased  France  Germany  Spain\n",
            "0   1   France  44.000000  72000.000000        No       1        0      0\n",
            "1   2    Spain  27.000000  48000.000000       Yes       0        0      1\n",
            "2   3  Germany  30.000000  54000.000000        No       0        1      0\n",
            "3   4    Spain  38.000000  61000.000000        No       0        0      1\n",
            "4   5  Germany  40.000000  63777.777778       Yes       0        1      0\n",
            "5   6   France  35.000000  58000.000000       Yes       1        0      0\n",
            "6   7    Spain  38.777778  52000.000000        No       0        0      1\n",
            "7   8   France  48.000000  79000.000000       Yes       1        0      0\n",
            "8   9  Germany  50.000000  83000.000000        No       0        1      0\n",
            "9  10   France  37.000000  67000.000000       Yes       1        0      0\n"
          ]
        }
      ]
    },
    {
      "cell_type": "markdown",
      "source": [
        "# **Task 2**. Simple Linear Regression in Scikit-Learn\n",
        "---\n",
        "# **Usage:**\n",
        "> **Step 1**: build a model\n",
        "![image.png](data:image/png;base64,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)\n",
        "\n",
        "> **Step 2**: test the model\n",
        "\n",
        "*   With test set:\n",
        "`y_pred = regressor.predict(X_test)`\n",
        "\n",
        "*   With a single value (\"predict\" method always expects a 2D array as the format of its inputs)\n",
        "`regressor.predict([[12]])`\n",
        "\n",
        "> **Step 3**: \n",
        "*   get w0, w1 , w2, …,\n",
        "-- W0: `regressor.intercept_`\n",
        "-- w1, w2, …: `regressor.coef_`\n",
        "*   R^2 score: sum of squared r(i)\n",
        "`r(i) = y(i) - f(x(i))`: residual of ith instance\n",
        "\n",
        "\n",
        "> **Metrics**:\n",
        "*   metrics.explained_variance_score(y_test, y_pred)\n",
        "*   metrics.mean_absolute_error(y_ test, y_pred) \n",
        "*   metrics.mean_squared_error(y_ test, y_pred[, ...])\n",
        "*   metrics.mean_squared_log_error(y_ test, y_pred)\n",
        "*   metrics.median_absolute_error(y_ test, y_pred)\n",
        "*   metrics.r2_score(y_ test, y_pred[, ...])\n"
      ],
      "metadata": {
        "id": "4_r5ZV4_zL20"
      }
    },
    {
      "cell_type": "markdown",
      "source": [
        "\n",
        "\n",
        "---\n",
        "\n"
      ],
      "metadata": {
        "id": "oSy2WoJiSHQM"
      }
    },
    {
      "cell_type": "markdown",
      "source": [
        "# Tasks\n",
        "The main aim of these tasks is to get familiar with Linear Regression problems. Apply LinearRegression to the following datasets. Note the error obtained and coefficients\n",
        "*   **dataset1.csv** - a synthetic dataset including 5 points (1-dimensional data) with one target\n",
        "*   **dataset2.csv** - a synthetic dataset including 1000 points (3-dimensional data) with one target variable. The variables are named x1, x2, x3, y. y is the variable to be regressed. Split the dataset into training set and test set (70% for training set and 30% for test set). \n"
      ],
      "metadata": {
        "id": "oJwsJwj03iD_"
      }
    },
    {
      "cell_type": "markdown",
      "source": [
        "# Task 2.1. dataset1.csv\n"
      ],
      "metadata": {
        "id": "XXmlzCILTkdG"
      }
    },
    {
      "cell_type": "code",
      "source": [
        "#code\n",
        "dataset = pd.read_csv(\"dataset1.csv\")\n",
        "X_train = dataset[['x']]\n",
        "y_train = dataset[['y']]\n",
        "X_train"
      ],
      "metadata": {
        "id": "3KA4BgbB3tbs",
        "colab": {
          "base_uri": "https://localhost:8080/",
          "height": 206
        },
        "outputId": "c3c8b3c0-2278-4cfc-85a7-b18feb852679"
      },
      "execution_count": 73,
      "outputs": [
        {
          "output_type": "execute_result",
          "data": {
            "text/plain": [
              "   x\n",
              "0  1\n",
              "1  2\n",
              "2  4\n",
              "3  3\n",
              "4  5"
            ],
            "text/html": [
              "\n",
              "  <div id=\"df-94a5f758-cd12-4d2d-b711-719d2aaad224\">\n",
              "    <div class=\"colab-df-container\">\n",
              "      <div>\n",
              "<style scoped>\n",
              "    .dataframe tbody tr th:only-of-type {\n",
              "        vertical-align: middle;\n",
              "    }\n",
              "\n",
              "    .dataframe tbody tr th {\n",
              "        vertical-align: top;\n",
              "    }\n",
              "\n",
              "    .dataframe thead th {\n",
              "        text-align: right;\n",
              "    }\n",
              "</style>\n",
              "<table border=\"1\" class=\"dataframe\">\n",
              "  <thead>\n",
              "    <tr style=\"text-align: right;\">\n",
              "      <th></th>\n",
              "      <th>x</th>\n",
              "    </tr>\n",
              "  </thead>\n",
              "  <tbody>\n",
              "    <tr>\n",
              "      <th>0</th>\n",
              "      <td>1</td>\n",
              "    </tr>\n",
              "    <tr>\n",
              "      <th>1</th>\n",
              "      <td>2</td>\n",
              "    </tr>\n",
              "    <tr>\n",
              "      <th>2</th>\n",
              "      <td>4</td>\n",
              "    </tr>\n",
              "    <tr>\n",
              "      <th>3</th>\n",
              "      <td>3</td>\n",
              "    </tr>\n",
              "    <tr>\n",
              "      <th>4</th>\n",
              "      <td>5</td>\n",
              "    </tr>\n",
              "  </tbody>\n",
              "</table>\n",
              "</div>\n",
              "      <button class=\"colab-df-convert\" onclick=\"convertToInteractive('df-94a5f758-cd12-4d2d-b711-719d2aaad224')\"\n",
              "              title=\"Convert this dataframe to an interactive table.\"\n",
              "              style=\"display:none;\">\n",
              "        \n",
              "  <svg xmlns=\"http://www.w3.org/2000/svg\" height=\"24px\"viewBox=\"0 0 24 24\"\n",
              "       width=\"24px\">\n",
              "    <path d=\"M0 0h24v24H0V0z\" fill=\"none\"/>\n",
              "    <path d=\"M18.56 5.44l.94 2.06.94-2.06 2.06-.94-2.06-.94-.94-2.06-.94 2.06-2.06.94zm-11 1L8.5 8.5l.94-2.06 2.06-.94-2.06-.94L8.5 2.5l-.94 2.06-2.06.94zm10 10l.94 2.06.94-2.06 2.06-.94-2.06-.94-.94-2.06-.94 2.06-2.06.94z\"/><path d=\"M17.41 7.96l-1.37-1.37c-.4-.4-.92-.59-1.43-.59-.52 0-1.04.2-1.43.59L10.3 9.45l-7.72 7.72c-.78.78-.78 2.05 0 2.83L4 21.41c.39.39.9.59 1.41.59.51 0 1.02-.2 1.41-.59l7.78-7.78 2.81-2.81c.8-.78.8-2.07 0-2.86zM5.41 20L4 18.59l7.72-7.72 1.47 1.35L5.41 20z\"/>\n",
              "  </svg>\n",
              "      </button>\n",
              "      \n",
              "  <style>\n",
              "    .colab-df-container {\n",
              "      display:flex;\n",
              "      flex-wrap:wrap;\n",
              "      gap: 12px;\n",
              "    }\n",
              "\n",
              "    .colab-df-convert {\n",
              "      background-color: #E8F0FE;\n",
              "      border: none;\n",
              "      border-radius: 50%;\n",
              "      cursor: pointer;\n",
              "      display: none;\n",
              "      fill: #1967D2;\n",
              "      height: 32px;\n",
              "      padding: 0 0 0 0;\n",
              "      width: 32px;\n",
              "    }\n",
              "\n",
              "    .colab-df-convert:hover {\n",
              "      background-color: #E2EBFA;\n",
              "      box-shadow: 0px 1px 2px rgba(60, 64, 67, 0.3), 0px 1px 3px 1px rgba(60, 64, 67, 0.15);\n",
              "      fill: #174EA6;\n",
              "    }\n",
              "\n",
              "    [theme=dark] .colab-df-convert {\n",
              "      background-color: #3B4455;\n",
              "      fill: #D2E3FC;\n",
              "    }\n",
              "\n",
              "    [theme=dark] .colab-df-convert:hover {\n",
              "      background-color: #434B5C;\n",
              "      box-shadow: 0px 1px 3px 1px rgba(0, 0, 0, 0.15);\n",
              "      filter: drop-shadow(0px 1px 2px rgba(0, 0, 0, 0.3));\n",
              "      fill: #FFFFFF;\n",
              "    }\n",
              "  </style>\n",
              "\n",
              "      <script>\n",
              "        const buttonEl =\n",
              "          document.querySelector('#df-94a5f758-cd12-4d2d-b711-719d2aaad224 button.colab-df-convert');\n",
              "        buttonEl.style.display =\n",
              "          google.colab.kernel.accessAllowed ? 'block' : 'none';\n",
              "\n",
              "        async function convertToInteractive(key) {\n",
              "          const element = document.querySelector('#df-94a5f758-cd12-4d2d-b711-719d2aaad224');\n",
              "          const dataTable =\n",
              "            await google.colab.kernel.invokeFunction('convertToInteractive',\n",
              "                                                     [key], {});\n",
              "          if (!dataTable) return;\n",
              "\n",
              "          const docLinkHtml = 'Like what you see? Visit the ' +\n",
              "            '<a target=\"_blank\" href=https://colab.research.google.com/notebooks/data_table.ipynb>data table notebook</a>'\n",
              "            + ' to learn more about interactive tables.';\n",
              "          element.innerHTML = '';\n",
              "          dataTable['output_type'] = 'display_data';\n",
              "          await google.colab.output.renderOutput(dataTable, element);\n",
              "          const docLink = document.createElement('div');\n",
              "          docLink.innerHTML = docLinkHtml;\n",
              "          element.appendChild(docLink);\n",
              "        }\n",
              "      </script>\n",
              "    </div>\n",
              "  </div>\n",
              "  "
            ]
          },
          "metadata": {},
          "execution_count": 73
        }
      ]
    },
    {
      "cell_type": "code",
      "source": [
        "#code\n",
        "regressor = LinearRegression()\n",
        "regressor.fit(X_train, y_train)\n",
        "print(regressor.intercept_)\n",
        "print(regressor.coef_)"
      ],
      "metadata": {
        "id": "xAc_7_h2SOsV",
        "colab": {
          "base_uri": "https://localhost:8080/"
        },
        "outputId": "a71cdd54-fb44-4a43-89dc-dee58406abd4"
      },
      "execution_count": 74,
      "outputs": [
        {
          "output_type": "stream",
          "name": "stdout",
          "text": [
            "[0.4]\n",
            "[[0.8]]\n"
          ]
        }
      ]
    },
    {
      "cell_type": "code",
      "source": [
        "y_pred = regressor.predict(X_train)\n",
        "y_pred"
      ],
      "metadata": {
        "colab": {
          "base_uri": "https://localhost:8080/"
        },
        "id": "p4CI4oOgWC82",
        "outputId": "0c94e92b-bbc3-4043-c448-290f7a46338e"
      },
      "execution_count": 75,
      "outputs": [
        {
          "output_type": "execute_result",
          "data": {
            "text/plain": [
              "array([[1.2],\n",
              "       [2. ],\n",
              "       [3.6],\n",
              "       [2.8],\n",
              "       [4.4]])"
            ]
          },
          "metadata": {},
          "execution_count": 75
        }
      ]
    },
    {
      "cell_type": "code",
      "source": [
        "r2 = metrics.r2_score(y_train, y_pred)\n",
        "r2"
      ],
      "metadata": {
        "colab": {
          "base_uri": "https://localhost:8080/"
        },
        "id": "SGwuVNneXDck",
        "outputId": "670bc4d3-7e4b-4dc9-8603-bba9496ba270"
      },
      "execution_count": 76,
      "outputs": [
        {
          "output_type": "execute_result",
          "data": {
            "text/plain": [
              "0.7272727272727273"
            ]
          },
          "metadata": {},
          "execution_count": 76
        }
      ]
    },
    {
      "cell_type": "markdown",
      "source": [
        "# Task 2.2. dataset2.csv\n"
      ],
      "metadata": {
        "id": "swMtgNZUUQlv"
      }
    },
    {
      "cell_type": "code",
      "source": [
        "#code\n",
        "dataset = pd.read_csv(\"dataset2.csv\")\n",
        "X_train = dataset[['x1', 'x2', 'x3']]\n",
        "y_train = dataset[['y']]\n",
        "print(X_train)\n",
        "print(y_train)"
      ],
      "metadata": {
        "id": "B8HMqi34USt_",
        "colab": {
          "base_uri": "https://localhost:8080/"
        },
        "outputId": "cc349a68-1f58-47da-ca0b-e10892c25c7e"
      },
      "execution_count": 153,
      "outputs": [
        {
          "output_type": "stream",
          "name": "stdout",
          "text": [
            "          x1       x2       x3\n",
            "0    2.41710  0.83595  0.72469\n",
            "1    1.98150 -1.01800 -1.06400\n",
            "2    1.82850  0.49281 -0.89035\n",
            "3    1.50480 -1.74070 -1.72290\n",
            "4    0.27489 -0.31811 -0.56168\n",
            "..       ...      ...      ...\n",
            "594  1.64550  0.63758 -0.75519\n",
            "595 -1.16320  0.17321 -2.23150\n",
            "596 -1.61920 -0.57279 -2.26420\n",
            "597 -0.34407  1.86730 -2.22070\n",
            "598 -0.12172 -0.99826 -2.14240\n",
            "\n",
            "[599 rows x 3 columns]\n",
            "            y\n",
            "0    18.21900\n",
            "1     0.55271\n",
            "2     7.00510\n",
            "3    -7.06310\n",
            "4     0.74380\n",
            "..        ...\n",
            "594   7.71100\n",
            "595  -9.95440\n",
            "596 -14.47000\n",
            "597  -0.66676\n",
            "598 -11.07000\n",
            "\n",
            "[599 rows x 1 columns]\n"
          ]
        }
      ]
    },
    {
      "cell_type": "code",
      "source": [
        "#code\n",
        "regressor = LinearRegression()\n",
        "regressor.fit(X_train, y_train)\n",
        "print(regressor.intercept_)\n",
        "print(regressor.coef_)"
      ],
      "metadata": {
        "colab": {
          "base_uri": "https://localhost:8080/"
        },
        "id": "h-vgwEZoZrCF",
        "outputId": "0d4584ee-a2cf-44e6-8eec-97cf3465340f"
      },
      "execution_count": 78,
      "outputs": [
        {
          "output_type": "stream",
          "name": "stdout",
          "text": [
            "[4.00002001]\n",
            "[[2.99999912 3.99999915 4.99999494]]\n"
          ]
        }
      ]
    },
    {
      "cell_type": "code",
      "source": [
        "y_pred = regressor.predict(X_train)\n",
        "y_pred"
      ],
      "metadata": {
        "colab": {
          "base_uri": "https://localhost:8080/"
        },
        "id": "yoYsAn8gfOSP",
        "outputId": "b6cec191-53a9-416c-867b-0344e9b23ad2"
      },
      "execution_count": 79,
      "outputs": [
        {
          "output_type": "execute_result",
          "data": {
            "text/plain": [
              "array([[ 1.82185635e+01],\n",
              "       [ 5.52524511e-01],\n",
              "       [ 7.00501249e+00],\n",
              "       [-7.06287113e+00],\n",
              "       [ 7.43852878e-01],\n",
              "       [ 2.93019242e+00],\n",
              "       [ 2.68121299e+00],\n",
              "       [-1.06672698e+00],\n",
              "       [ 1.40735679e+01],\n",
              "       [-1.12738715e+01],\n",
              "       [ 1.72741078e+01],\n",
              "       [ 5.63486769e+00],\n",
              "       [-6.87219168e+00],\n",
              "       [-1.81208672e+01],\n",
              "       [-1.75936966e+00],\n",
              "       [-1.86794752e-01],\n",
              "       [-2.96895972e+00],\n",
              "       [-1.57929254e+00],\n",
              "       [-8.45859957e-01],\n",
              "       [ 1.34147141e+01],\n",
              "       [-5.17698309e+00],\n",
              "       [ 8.46472279e+00],\n",
              "       [ 1.05538524e+00],\n",
              "       [ 1.81028887e+01],\n",
              "       [ 2.99738787e+00],\n",
              "       [-7.68626827e+00],\n",
              "       [ 1.17404210e+01],\n",
              "       [ 1.97142019e+00],\n",
              "       [-4.53483036e+00],\n",
              "       [ 1.13559692e+01],\n",
              "       [ 3.21813449e+00],\n",
              "       [-7.28433037e+00],\n",
              "       [ 1.70155080e+01],\n",
              "       [ 1.38809110e+01],\n",
              "       [-1.56468222e+01],\n",
              "       [ 2.78751759e+00],\n",
              "       [ 5.15608334e+00],\n",
              "       [-6.86345952e+00],\n",
              "       [ 9.37096874e+00],\n",
              "       [-2.40508461e+00],\n",
              "       [ 9.99343331e+00],\n",
              "       [ 8.98117059e+00],\n",
              "       [-1.44970722e+01],\n",
              "       [ 3.77697271e+00],\n",
              "       [-2.81474150e+00],\n",
              "       [ 1.05360617e+01],\n",
              "       [ 1.32948065e+01],\n",
              "       [-4.48154820e+00],\n",
              "       [-1.49282086e+01],\n",
              "       [-1.61278878e+01],\n",
              "       [ 6.17753140e+00],\n",
              "       [ 7.79421223e+00],\n",
              "       [-3.55769184e+00],\n",
              "       [ 3.53648509e+00],\n",
              "       [-4.45445112e+00],\n",
              "       [ 1.48690903e+01],\n",
              "       [ 1.53527722e+01],\n",
              "       [ 9.34437780e+00],\n",
              "       [-3.76921603e+00],\n",
              "       [ 4.38949977e+00],\n",
              "       [ 8.22015157e+00],\n",
              "       [ 1.68911792e+01],\n",
              "       [ 9.19870410e+00],\n",
              "       [ 1.26598174e+01],\n",
              "       [ 2.27760078e+01],\n",
              "       [ 1.56664058e+01],\n",
              "       [ 4.21722146e+00],\n",
              "       [ 1.35161349e+01],\n",
              "       [ 1.20953289e+01],\n",
              "       [-4.10327214e+00],\n",
              "       [ 1.27305862e+01],\n",
              "       [-5.50857224e+00],\n",
              "       [ 3.58416580e+00],\n",
              "       [ 1.29672306e+01],\n",
              "       [ 1.43284771e+00],\n",
              "       [ 1.90834136e+01],\n",
              "       [ 5.05493062e+00],\n",
              "       [ 1.62023648e+01],\n",
              "       [ 1.04785133e+01],\n",
              "       [-6.35308139e+00],\n",
              "       [-6.43570852e+00],\n",
              "       [ 1.65468197e+01],\n",
              "       [-6.76785480e+00],\n",
              "       [-3.63848103e+00],\n",
              "       [ 2.93287062e+01],\n",
              "       [ 4.04950424e+00],\n",
              "       [ 3.03051069e+00],\n",
              "       [ 9.63147256e+00],\n",
              "       [ 8.19621305e+00],\n",
              "       [ 1.16694254e+01],\n",
              "       [ 6.02816922e+00],\n",
              "       [-3.49868603e+00],\n",
              "       [-5.90585025e-01],\n",
              "       [ 1.61763652e+01],\n",
              "       [ 1.38668918e+01],\n",
              "       [ 3.81041090e+00],\n",
              "       [ 7.45871333e+00],\n",
              "       [ 6.88099213e+00],\n",
              "       [ 9.82841237e-01],\n",
              "       [ 1.65679495e+01],\n",
              "       [ 1.75802406e+00],\n",
              "       [-1.07203984e+01],\n",
              "       [-4.54583257e+00],\n",
              "       [-1.20237676e+01],\n",
              "       [ 9.63451201e+00],\n",
              "       [ 3.23500454e+00],\n",
              "       [ 8.50922536e+00],\n",
              "       [ 2.42470095e+01],\n",
              "       [-7.30298066e+00],\n",
              "       [ 5.22132685e+00],\n",
              "       [-5.56533241e+00],\n",
              "       [-4.17022579e+00],\n",
              "       [ 2.14420671e+01],\n",
              "       [ 1.38492601e+00],\n",
              "       [-7.82444179e+00],\n",
              "       [-1.56826707e+01],\n",
              "       [-3.04888359e+00],\n",
              "       [ 8.01560212e+00],\n",
              "       [-7.62762922e+00],\n",
              "       [-3.13077257e+00],\n",
              "       [ 7.34039146e-01],\n",
              "       [ 7.08246297e+00],\n",
              "       [-1.45689701e+01],\n",
              "       [ 2.13863279e+01],\n",
              "       [ 7.67143750e+00],\n",
              "       [ 1.54276935e+00],\n",
              "       [ 1.03283171e+01],\n",
              "       [-1.26006961e+00],\n",
              "       [-6.70366575e+00],\n",
              "       [ 1.12386715e+01],\n",
              "       [ 1.50865509e+01],\n",
              "       [ 4.97656781e+00],\n",
              "       [ 3.47905413e-01],\n",
              "       [ 1.15047613e+01],\n",
              "       [ 3.70903494e+00],\n",
              "       [ 8.93469106e-01],\n",
              "       [ 1.78614887e+01],\n",
              "       [-9.67817416e+00],\n",
              "       [-1.56532561e+00],\n",
              "       [ 1.44105055e+01],\n",
              "       [-1.12352801e+01],\n",
              "       [ 1.06775010e+01],\n",
              "       [-5.41477228e+00],\n",
              "       [ 1.57402118e+01],\n",
              "       [ 7.50951432e+00],\n",
              "       [ 5.38678616e+00],\n",
              "       [ 1.89674487e+01],\n",
              "       [ 8.85771299e+00],\n",
              "       [ 7.49380032e-01],\n",
              "       [-1.29381467e+01],\n",
              "       [-1.29776083e+01],\n",
              "       [-1.91124386e+00],\n",
              "       [ 1.27412088e+01],\n",
              "       [ 1.46437904e+01],\n",
              "       [ 1.05838096e+01],\n",
              "       [ 2.10735870e+01],\n",
              "       [ 1.18078408e+01],\n",
              "       [-3.99528489e+00],\n",
              "       [ 9.61451361e+00],\n",
              "       [-1.24711907e+01],\n",
              "       [ 1.49619787e+01],\n",
              "       [ 1.93218981e+01],\n",
              "       [-1.95872659e+00],\n",
              "       [-1.09062736e+01],\n",
              "       [-5.33693130e+00],\n",
              "       [ 2.31046111e+01],\n",
              "       [ 1.34040115e+01],\n",
              "       [ 4.85019813e+00],\n",
              "       [-9.22632884e+00],\n",
              "       [ 1.11430270e+01],\n",
              "       [-1.05885948e+01],\n",
              "       [ 9.64725359e+00],\n",
              "       [ 9.05008552e+00],\n",
              "       [ 1.00509172e+01],\n",
              "       [-6.08147285e+00],\n",
              "       [ 1.39179531e+01],\n",
              "       [ 9.38791487e+00],\n",
              "       [ 7.17739203e+00],\n",
              "       [-5.34868917e+00],\n",
              "       [ 1.32966118e+01],\n",
              "       [ 2.97514479e+00],\n",
              "       [ 2.87693487e+00],\n",
              "       [ 1.51904036e+01],\n",
              "       [ 1.66676813e+01],\n",
              "       [ 7.39999235e+00],\n",
              "       [ 1.49562593e+01],\n",
              "       [ 7.21219010e-01],\n",
              "       [ 4.38892444e+00],\n",
              "       [ 1.09215228e+01],\n",
              "       [ 1.14057807e+01],\n",
              "       [ 9.32610140e+00],\n",
              "       [-3.24469187e+00],\n",
              "       [ 9.06351030e+00],\n",
              "       [ 1.21797154e+01],\n",
              "       [ 8.85531928e+00],\n",
              "       [ 4.53961608e+00],\n",
              "       [-3.89618439e+00],\n",
              "       [ 3.41876996e+00],\n",
              "       [-9.77202832e+00],\n",
              "       [-9.57653793e+00],\n",
              "       [ 4.46716919e+00],\n",
              "       [ 2.27460128e+01],\n",
              "       [ 4.95269482e+00],\n",
              "       [ 5.21642806e+00],\n",
              "       [ 3.88101987e+00],\n",
              "       [ 3.61452855e+00],\n",
              "       [-8.98885524e-01],\n",
              "       [ 1.20380959e+01],\n",
              "       [ 9.70026450e+00],\n",
              "       [ 2.31679755e+00],\n",
              "       [ 1.83001144e+01],\n",
              "       [ 1.05364795e+01],\n",
              "       [ 2.25084636e+00],\n",
              "       [-6.40412694e+00],\n",
              "       [ 6.46187325e+00],\n",
              "       [ 1.95960013e+01],\n",
              "       [-7.75983901e-01],\n",
              "       [ 1.26352730e+00],\n",
              "       [ 3.38193614e+00],\n",
              "       [ 5.15317172e+00],\n",
              "       [ 3.38086649e+00],\n",
              "       [ 5.20821716e-01],\n",
              "       [-9.14636859e+00],\n",
              "       [-1.30997325e+00],\n",
              "       [ 3.22156649e+00],\n",
              "       [ 1.78439101e+01],\n",
              "       [ 2.78231322e+00],\n",
              "       [-7.35699838e+00],\n",
              "       [ 1.20547107e+01],\n",
              "       [ 1.26926687e+01],\n",
              "       [ 1.77354684e+01],\n",
              "       [ 1.25845812e-02],\n",
              "       [ 6.84075591e+00],\n",
              "       [ 2.53612955e+00],\n",
              "       [ 6.07846933e+00],\n",
              "       [-7.89562369e+00],\n",
              "       [ 2.87702385e+00],\n",
              "       [ 1.22176190e+01],\n",
              "       [ 1.71459321e+01],\n",
              "       [ 6.66302302e+00],\n",
              "       [ 4.78177704e+00],\n",
              "       [ 9.33477031e+00],\n",
              "       [ 5.91645834e+00],\n",
              "       [ 1.24683391e+01],\n",
              "       [ 4.79470369e+00],\n",
              "       [ 8.46792571e+00],\n",
              "       [ 1.60528111e+01],\n",
              "       [ 2.03433115e+01],\n",
              "       [-1.12407687e+01],\n",
              "       [-1.36709995e+01],\n",
              "       [ 4.83820354e+00],\n",
              "       [ 6.03974089e+00],\n",
              "       [-3.43868856e+00],\n",
              "       [ 8.93082322e+00],\n",
              "       [ 9.12491282e+00],\n",
              "       [ 2.04889301e+01],\n",
              "       [ 5.46248971e-02],\n",
              "       [-1.38896218e+00],\n",
              "       [-7.39584983e+00],\n",
              "       [ 1.00959147e+01],\n",
              "       [-8.51521383e+00],\n",
              "       [ 1.89910131e+01],\n",
              "       [-3.00437481e+00],\n",
              "       [ 5.88951566e+00],\n",
              "       [-3.11924198e+00],\n",
              "       [ 2.29114262e+00],\n",
              "       [-1.73810690e+01],\n",
              "       [ 9.70138453e+00],\n",
              "       [ 1.33818121e+01],\n",
              "       [ 1.95649782e+01],\n",
              "       [ 7.28330332e-01],\n",
              "       [-2.99721273e+00],\n",
              "       [-9.67440897e-01],\n",
              "       [-4.10795228e+00],\n",
              "       [ 4.67888114e+00],\n",
              "       [ 1.44096103e+01],\n",
              "       [ 1.15347798e+01],\n",
              "       [ 1.86521479e+01],\n",
              "       [-8.30724430e+00],\n",
              "       [ 1.54420832e+01],\n",
              "       [-4.89076968e+00],\n",
              "       [-1.59434675e+01],\n",
              "       [ 1.11183199e+01],\n",
              "       [ 1.38439796e+01],\n",
              "       [-1.81239660e+01],\n",
              "       [ 8.92923561e-01],\n",
              "       [ 2.82102489e+00],\n",
              "       [ 7.94375910e-01],\n",
              "       [ 6.39578192e+00],\n",
              "       [ 1.48910087e+01],\n",
              "       [-1.60100907e+00],\n",
              "       [ 1.71241907e+01],\n",
              "       [-1.27814731e+01],\n",
              "       [ 7.45104963e+00],\n",
              "       [ 2.27353865e+01],\n",
              "       [-5.39887042e+00],\n",
              "       [-2.24570653e+01],\n",
              "       [ 1.73610127e+01],\n",
              "       [ 1.95331232e+00],\n",
              "       [-4.78431502e-01],\n",
              "       [ 9.17204595e+00],\n",
              "       [ 2.86744714e+00],\n",
              "       [-4.98283156e+00],\n",
              "       [ 1.47065152e+01],\n",
              "       [-7.71428855e+00],\n",
              "       [ 2.15187504e+00],\n",
              "       [ 1.22194486e+01],\n",
              "       [ 9.32121968e+00],\n",
              "       [-9.76257350e+00],\n",
              "       [-1.08194378e+01],\n",
              "       [-3.49579310e+00],\n",
              "       [ 5.55149831e+00],\n",
              "       [ 1.65786548e+01],\n",
              "       [ 1.05693133e+01],\n",
              "       [ 1.23477655e+01],\n",
              "       [-9.16907847e+00],\n",
              "       [ 1.45617085e+01],\n",
              "       [ 3.07299828e+00],\n",
              "       [-5.91426007e-01],\n",
              "       [ 1.47169642e+01],\n",
              "       [ 1.76117866e+01],\n",
              "       [-8.96312741e+00],\n",
              "       [-8.53047454e+00],\n",
              "       [ 4.06807504e+00],\n",
              "       [-6.94899275e+00],\n",
              "       [ 8.35841670e+00],\n",
              "       [ 1.03656901e+01],\n",
              "       [ 1.07433718e+01],\n",
              "       [ 1.67994505e+01],\n",
              "       [ 2.03911105e+01],\n",
              "       [-7.87009972e+00],\n",
              "       [-8.00633459e+00],\n",
              "       [-3.12074649e+00],\n",
              "       [ 1.65342133e+01],\n",
              "       [ 1.05184159e+01],\n",
              "       [ 1.99904627e+01],\n",
              "       [-1.09247674e+01],\n",
              "       [-9.20797007e+00],\n",
              "       [ 1.60238724e+01],\n",
              "       [ 1.68745903e+01],\n",
              "       [ 5.13395850e-01],\n",
              "       [ 9.01623056e+00],\n",
              "       [ 2.73130063e+01],\n",
              "       [-2.41925332e+00],\n",
              "       [-3.40479833e+00],\n",
              "       [ 1.29165118e+01],\n",
              "       [-6.16317790e+00],\n",
              "       [ 1.54003843e+00],\n",
              "       [ 6.01957853e+00],\n",
              "       [ 1.18981631e+00],\n",
              "       [-9.04022813e+00],\n",
              "       [ 1.29915830e+01],\n",
              "       [-1.54642701e+01],\n",
              "       [ 4.85460305e+00],\n",
              "       [ 5.20546897e+00],\n",
              "       [ 9.02682412e+00],\n",
              "       [ 1.68446685e+01],\n",
              "       [-8.14251722e+00],\n",
              "       [-1.07783488e+01],\n",
              "       [-2.35877344e+00],\n",
              "       [-7.83244356e+00],\n",
              "       [ 4.57064787e+00],\n",
              "       [ 4.68204503e+00],\n",
              "       [-6.73675250e+00],\n",
              "       [ 2.80403065e+01],\n",
              "       [-1.86276030e+00],\n",
              "       [ 1.92707179e+01],\n",
              "       [-1.16709113e+00],\n",
              "       [-1.38262706e+01],\n",
              "       [-1.48872081e+01],\n",
              "       [ 9.32577394e+00],\n",
              "       [ 7.80987066e+00],\n",
              "       [ 6.94866611e+00],\n",
              "       [ 2.07462109e+01],\n",
              "       [-4.44902564e+00],\n",
              "       [-1.42862996e+00],\n",
              "       [-4.21157271e+00],\n",
              "       [ 1.79004076e+01],\n",
              "       [ 1.48799423e+01],\n",
              "       [-2.80937441e+00],\n",
              "       [ 1.39046570e+00],\n",
              "       [ 1.16877991e+01],\n",
              "       [ 9.88559478e+00],\n",
              "       [ 8.62311434e+00],\n",
              "       [ 5.96097641e+00],\n",
              "       [ 1.53218122e+01],\n",
              "       [ 1.48250359e+01],\n",
              "       [ 1.12647835e+01],\n",
              "       [ 8.76923188e+00],\n",
              "       [ 6.76903164e+00],\n",
              "       [ 2.44905542e+00],\n",
              "       [-1.21684321e+01],\n",
              "       [ 5.51239172e+00],\n",
              "       [ 7.50391491e+00],\n",
              "       [ 8.09576206e+00],\n",
              "       [-5.77078048e+00],\n",
              "       [-4.14303042e+00],\n",
              "       [-1.59388661e+01],\n",
              "       [ 2.27464077e+01],\n",
              "       [ 2.24647082e+00],\n",
              "       [ 3.58559944e+00],\n",
              "       [ 1.61358315e+01],\n",
              "       [ 2.43318309e+00],\n",
              "       [ 6.17936753e+00],\n",
              "       [ 3.67055299e+00],\n",
              "       [-1.32823221e+01],\n",
              "       [ 1.70525038e+01],\n",
              "       [ 9.07811872e-01],\n",
              "       [-1.25659082e+01],\n",
              "       [-1.76718696e+01],\n",
              "       [ 2.01383374e+01],\n",
              "       [ 1.28334838e+01],\n",
              "       [-6.81083037e+00],\n",
              "       [ 5.56798333e+00],\n",
              "       [-1.78901653e+01],\n",
              "       [ 2.91207925e+00],\n",
              "       [-1.09222070e+01],\n",
              "       [-4.85347366e+00],\n",
              "       [-7.36672299e-01],\n",
              "       [ 7.78646008e+00],\n",
              "       [ 6.64921448e+00],\n",
              "       [ 1.68486445e+01],\n",
              "       [ 4.88930459e-01],\n",
              "       [-1.40031718e+01],\n",
              "       [-1.93195871e+00],\n",
              "       [ 6.73352560e+00],\n",
              "       [ 2.08244115e+01],\n",
              "       [-1.23130877e+01],\n",
              "       [ 6.73096091e+00],\n",
              "       [-7.82076971e-01],\n",
              "       [-1.34221474e+01],\n",
              "       [ 3.09793924e+00],\n",
              "       [ 1.53651611e+01],\n",
              "       [ 2.37302372e+00],\n",
              "       [-7.27684396e-01],\n",
              "       [ 1.10492147e+01],\n",
              "       [ 5.92652792e+00],\n",
              "       [-8.73715474e+00],\n",
              "       [-1.52075687e+00],\n",
              "       [-8.09677889e-01],\n",
              "       [-8.48473060e-02],\n",
              "       [ 2.95236543e+00],\n",
              "       [-1.09556414e+00],\n",
              "       [ 7.15682814e+00],\n",
              "       [-4.12457918e+00],\n",
              "       [-1.74804259e+01],\n",
              "       [ 1.09753810e+01],\n",
              "       [ 6.86471196e+00],\n",
              "       [-5.31118431e+00],\n",
              "       [ 4.90871083e+00],\n",
              "       [ 1.50112185e+01],\n",
              "       [ 2.98495044e+01],\n",
              "       [ 8.54732551e+00],\n",
              "       [-2.21605640e+01],\n",
              "       [ 3.01260497e+00],\n",
              "       [ 3.40821272e+00],\n",
              "       [ 1.00300603e+00],\n",
              "       [ 4.42875533e+00],\n",
              "       [-1.15159709e+01],\n",
              "       [ 6.05060832e+00],\n",
              "       [-1.78967339e+00],\n",
              "       [ 3.50070329e+00],\n",
              "       [ 8.65965092e+00],\n",
              "       [-8.22956821e+00],\n",
              "       [-1.21514489e+01],\n",
              "       [ 2.69227299e+00],\n",
              "       [ 1.84040500e+01],\n",
              "       [-6.35821159e+00],\n",
              "       [ 1.49599084e+01],\n",
              "       [ 3.55611102e+00],\n",
              "       [ 9.99961110e+00],\n",
              "       [ 1.92805667e+01],\n",
              "       [-7.43799833e-01],\n",
              "       [ 9.56612463e+00],\n",
              "       [ 1.02084108e+01],\n",
              "       [ 8.69541609e+00],\n",
              "       [ 4.39392464e+00],\n",
              "       [ 7.15926642e-01],\n",
              "       [ 3.98345707e+00],\n",
              "       [ 1.37227549e+01],\n",
              "       [ 4.28183428e+00],\n",
              "       [ 1.39161142e+01],\n",
              "       [ 6.29320012e+00],\n",
              "       [ 2.42520767e+01],\n",
              "       [-5.55807950e+00],\n",
              "       [-8.27897142e+00],\n",
              "       [ 4.13721655e+00],\n",
              "       [ 8.11595222e+00],\n",
              "       [ 1.09583036e+01],\n",
              "       [ 7.51260959e+00],\n",
              "       [-5.72137365e+00],\n",
              "       [ 9.07880997e+00],\n",
              "       [-7.08758098e+00],\n",
              "       [-3.96573068e+00],\n",
              "       [ 7.70932394e+00],\n",
              "       [ 8.93856049e+00],\n",
              "       [ 8.42163927e+00],\n",
              "       [ 2.03651091e+01],\n",
              "       [ 2.03920304e+01],\n",
              "       [-1.05180470e+01],\n",
              "       [ 4.47415753e-01],\n",
              "       [ 1.71191632e+01],\n",
              "       [ 2.06285192e+01],\n",
              "       [ 1.55104258e+01],\n",
              "       [ 1.60925144e+01],\n",
              "       [-5.43100999e+00],\n",
              "       [-1.21047265e+00],\n",
              "       [-4.55598927e+00],\n",
              "       [-3.61041711e+00],\n",
              "       [ 3.57866346e+00],\n",
              "       [-1.01589724e+01],\n",
              "       [ 5.68144249e-03],\n",
              "       [-1.82017685e+01],\n",
              "       [ 2.96402055e+01],\n",
              "       [ 6.15405100e+00],\n",
              "       [ 6.69215775e+00],\n",
              "       [-9.26614739e+00],\n",
              "       [ 2.31905075e+01],\n",
              "       [ 3.12621621e+00],\n",
              "       [-1.72040268e+01],\n",
              "       [ 2.02986070e+01],\n",
              "       [-6.68544420e+00],\n",
              "       [ 9.32475083e-01],\n",
              "       [ 3.03071828e-01],\n",
              "       [ 3.19036827e+00],\n",
              "       [ 5.67902999e+00],\n",
              "       [ 8.30791826e+00],\n",
              "       [ 3.65506598e+00],\n",
              "       [ 9.16851763e+00],\n",
              "       [-8.14937080e+00],\n",
              "       [-4.17905675e+00],\n",
              "       [-4.33709724e-01],\n",
              "       [ 9.99311910e+00],\n",
              "       [ 9.80764141e-01],\n",
              "       [ 1.32171117e+00],\n",
              "       [ 1.31175386e+01],\n",
              "       [-1.27528351e+00],\n",
              "       [-1.56192694e+01],\n",
              "       [-7.17387860e+00],\n",
              "       [-1.32011951e+01],\n",
              "       [ 5.36431856e+00],\n",
              "       [ 4.05195792e+00],\n",
              "       [-1.03757239e+01],\n",
              "       [-6.82172998e+00],\n",
              "       [ 9.27256129e+00],\n",
              "       [ 3.85736442e+00],\n",
              "       [-6.80542347e+00],\n",
              "       [-1.75847098e+00],\n",
              "       [ 5.73230915e+00],\n",
              "       [ 5.01573318e+00],\n",
              "       [ 7.69836317e+00],\n",
              "       [ 1.18867425e+01],\n",
              "       [-9.67178122e-01],\n",
              "       [-4.40083908e+00],\n",
              "       [ 2.98558045e+01],\n",
              "       [ 1.09214152e+01],\n",
              "       [ 1.14294296e+01],\n",
              "       [-1.79665771e+01],\n",
              "       [ 1.51606493e+01],\n",
              "       [-9.60022813e+00],\n",
              "       [-6.34757085e+00],\n",
              "       [ 1.02676959e+01],\n",
              "       [-5.15631526e+00],\n",
              "       [ 4.91886290e+00],\n",
              "       [ 1.89256905e+01],\n",
              "       [-4.20007472e+00],\n",
              "       [-5.81462976e+00],\n",
              "       [-4.14905724e+00],\n",
              "       [ 3.44856393e+00],\n",
              "       [ 1.65691105e+01],\n",
              "       [ 4.82046354e-01],\n",
              "       [ 8.53182707e+00],\n",
              "       [ 4.31525464e+00],\n",
              "       [ 2.08644639e+00],\n",
              "       [ 1.50075955e+01],\n",
              "       [-1.83031180e+00],\n",
              "       [ 2.52934015e+00],\n",
              "       [ 1.42672734e+01],\n",
              "       [ 1.36993889e+01],\n",
              "       [ 5.11160490e-02],\n",
              "       [ 6.48782756e+00],\n",
              "       [ 8.78775016e+00],\n",
              "       [ 1.83428153e+01],\n",
              "       [ 2.05870640e+01],\n",
              "       [ 1.42105090e+01],\n",
              "       [ 7.42821223e+00],\n",
              "       [ 1.94943082e+01],\n",
              "       [-1.00550668e+01],\n",
              "       [ 1.51963177e+01],\n",
              "       [-9.69687985e+00],\n",
              "       [-9.45977316e+00],\n",
              "       [-1.06907899e+01],\n",
              "       [ 4.25493790e+00],\n",
              "       [ 7.36931610e+00],\n",
              "       [ 7.71089184e+00],\n",
              "       [-9.95422783e+00],\n",
              "       [-1.44697266e+01],\n",
              "       [-6.66480039e-01],\n",
              "       [-1.10701682e+01]])"
            ]
          },
          "metadata": {},
          "execution_count": 79
        }
      ]
    },
    {
      "cell_type": "code",
      "source": [
        "r2 = metrics.r2_score(y_train, y_pred)\n",
        "r2"
      ],
      "metadata": {
        "colab": {
          "base_uri": "https://localhost:8080/"
        },
        "id": "SiWeJExVbCwE",
        "outputId": "1a8ae9eb-1b63-41a0-a4a4-9444044ce545"
      },
      "execution_count": 80,
      "outputs": [
        {
          "output_type": "execute_result",
          "data": {
            "text/plain": [
              "0.9999999994090284"
            ]
          },
          "metadata": {},
          "execution_count": 80
        }
      ]
    },
    {
      "cell_type": "markdown",
      "source": [
        "# Task 2.3. Apply LinearRegression to the following dataset:\n",
        "*   Red wine quality: https://archive.ics.uci.edu/ml/machine-learning-databases/wine-quality/winequality-red.csv . The dataset includes info about the chemical properties of different types of wine and how they relate to overall quality. \n",
        "\n"
      ],
      "metadata": {
        "id": "yt-_Q4Ak4sFL"
      }
    },
    {
      "cell_type": "code",
      "source": [
        "#code\n",
        "dataset = pd.read_csv(\"Task3_winequality-red.csv\", sep=';')\n",
        "X = dataset[list(dataset.columns)[:-1]]\n",
        "y = dataset['quality']\n",
        "X_train, X_test, y_train, y_test = train_test_split(X,y)"
      ],
      "metadata": {
        "id": "IJtcHj7ia_2q"
      },
      "execution_count": 149,
      "outputs": []
    },
    {
      "cell_type": "code",
      "source": [
        "#code\n",
        "regressor = LinearRegression()\n",
        "regressor.fit(X_train, y_train)\n",
        "print(regressor.intercept_)\n",
        "print(regressor.coef_)"
      ],
      "metadata": {
        "colab": {
          "base_uri": "https://localhost:8080/"
        },
        "id": "0HqjngYachZr",
        "outputId": "6b42e816-af86-4ae5-fc3f-cd94862d046b"
      },
      "execution_count": 150,
      "outputs": [
        {
          "output_type": "stream",
          "name": "stdout",
          "text": [
            "25.43663372758768\n",
            "[ 1.90262565e-02 -1.09953138e+00 -1.86170699e-01  1.59838412e-02\n",
            " -1.70360372e+00  4.25874254e-03 -3.07798662e-03 -2.13749646e+01\n",
            " -3.79231704e-01  1.09239833e+00  2.57499531e-01]\n"
          ]
        }
      ]
    },
    {
      "cell_type": "code",
      "source": [
        "y_pred = regressor.predict(X_test)\n",
        "print(y_pred)\n",
        "\n",
        "r2 = metrics.r2_score(y_test, y_pred)\n",
        "print(r2)"
      ],
      "metadata": {
        "colab": {
          "base_uri": "https://localhost:8080/"
        },
        "id": "dF7oO95b8uwb",
        "outputId": "6a7c6807-70eb-4d30-e713-3d3d3f377dc1"
      },
      "execution_count": 151,
      "outputs": [
        {
          "output_type": "stream",
          "name": "stdout",
          "text": [
            "[5.15745603 5.32100308 5.78409374 5.54366553 6.16271911 5.35149419\n",
            " 5.78959605 5.39442713 5.86888543 5.65308845 4.94805768 5.84677761\n",
            " 5.78383764 5.85315977 5.57807099 5.80847049 5.9610616  5.12746752\n",
            " 5.74171115 5.29690095 5.9172309  4.97216554 6.29854684 5.55404901\n",
            " 5.47370615 5.02484206 6.49442441 5.44002758 5.73052781 5.85348055\n",
            " 6.79732912 5.3784055  5.05090218 5.77994848 5.68218479 5.60583458\n",
            " 5.77431676 6.52541766 5.13397673 5.81295128 5.70645417 5.48198368\n",
            " 5.76164573 6.58696835 5.02819782 5.45921217 6.17473751 5.2025223\n",
            " 5.3240671  5.78418405 5.85149394 5.75239638 5.59159415 6.08391906\n",
            " 5.17655218 6.03470414 5.1066677  5.27071754 5.25635852 4.94085488\n",
            " 5.04080095 5.46260541 5.92604492 5.92089694 6.03756712 5.47804297\n",
            " 6.31880735 5.24570944 5.84216532 5.91673237 5.42722882 5.4439148\n",
            " 5.0413377  5.33605567 5.29441542 5.04825375 5.31753474 5.91159466\n",
            " 5.26661051 6.46399309 5.09415726 5.62541588 5.83826051 5.4056752\n",
            " 6.03415574 5.01502739 5.01065565 6.08112861 5.60580675 6.50291487\n",
            " 4.76403956 5.68204051 5.9025739  6.41890619 5.35323351 6.21980207\n",
            " 5.09992415 5.68218479 6.04035347 5.72952908 5.140628   5.91381338\n",
            " 5.42722882 5.23482752 5.24428147 5.68204051 5.6795991  5.31180704\n",
            " 5.25226946 6.60046438 5.03642277 5.05338536 6.38411991 6.11867504\n",
            " 5.39442713 5.58257907 5.35941735 5.22902323 6.58821505 5.75599347\n",
            " 5.32411751 5.06782577 5.52438709 5.81940737 5.65442144 5.44918559\n",
            " 5.86931513 6.31314179 5.59168373 5.03695993 4.95185944 6.13717981\n",
            " 6.58616602 5.83611403 5.16208998 5.59552888 6.26202437 4.77603668\n",
            " 6.04260581 6.34814782 5.65629634 5.7453146  6.10984295 6.09751391\n",
            " 5.32493622 6.34540979 6.11126631 5.95166616 5.20685791 5.25554676\n",
            " 5.12916083 5.44584882 5.42986422 5.74601694 5.35775536 5.07402556\n",
            " 5.97145213 5.15177502 5.6772343  5.14172949 6.17197548 5.17136208\n",
            " 5.26999667 5.12300887 5.91707536 6.33169453 5.33807961 5.00528193\n",
            " 5.52594021 5.43867567 5.57521489 5.15452871 5.85837504 6.90339375\n",
            " 5.41445921 5.02682772 5.72952908 5.06051794 5.28170628 5.13302677\n",
            " 6.2540274  5.77914789 5.4070741  6.20542183 5.31349897 4.78563608\n",
            " 5.07340402 6.78379532 6.24107721 5.46030942 5.14713218 5.91673237\n",
            " 5.37567797 5.29025239 5.07304758 5.79237066 5.84759251 5.00363468\n",
            " 5.0616048  5.68501239 5.4070741  5.05668097 5.20911028 5.20224561\n",
            " 5.17470202 5.33111601 5.54053441 5.64800489 5.28768199 6.41022737\n",
            " 5.4140329  5.25554676 6.14544367 5.59191506 5.99150584 5.40032464\n",
            " 5.03886256 5.9241245  5.00630394 6.07974202 5.50049816 5.78461468\n",
            " 6.23186309 5.55337217 5.59187933 5.45606144 5.21890885 5.71716887\n",
            " 5.23845078 5.38513354 5.57431923 5.16070442 5.90571963 5.28331071\n",
            " 5.84184596 5.88277905 5.41247616 5.51843285 5.65664686 6.05413921\n",
            " 5.13128684 5.31320263 6.11260189 5.73761957 6.27874166 5.64945116\n",
            " 6.25321841 5.44859092 6.17722605 5.74975976 6.74786834 5.26573603\n",
            " 5.25879647 4.95971262 6.07824873 5.42132779 5.74812257 5.14053779\n",
            " 5.46214181 4.79315419 5.19513767 6.77206143 5.49540182 6.40792056\n",
            " 5.57518893 5.50857182 5.58781336 5.80547949 5.00501505 4.26368298\n",
            " 5.13406025 5.11686376 5.84759251 4.81789487 5.27675092 5.06986598\n",
            " 6.00253736 5.81686115 5.94861522 4.72567432 5.6020715  5.61732841\n",
            " 4.82985822 5.04962449 6.03722309 5.84216532 6.45096445 5.02661043\n",
            " 5.6754192  5.37629833 5.71716887 6.10241105 5.2609857  5.3883732\n",
            " 5.07009558 5.96456179 5.08267769 5.16523597 4.98867939 5.80622014\n",
            " 5.14713655 4.88584972 5.58844109 5.48958355 4.98151059 5.85806213\n",
            " 5.38681511 5.35690168 5.58781336 6.4177169  6.02836715 6.04673119\n",
            " 5.22384281 5.55974848 5.14845504 4.8906493  5.56500686 6.26350872\n",
            " 5.24827376 5.4687294  5.05585625 5.26730486 5.34189001 5.27350294\n",
            " 5.95802927 5.67123595 4.91959454 5.09391691 5.86577425 5.17891316\n",
            " 6.15597922 5.84759251 5.33807961 6.55111375 5.21823108 6.15200119\n",
            " 5.09505704 5.48082907 5.76126975 5.56891374 4.81985687 6.57512979\n",
            " 5.99257651 4.94727706 4.93550743 5.51236029 5.13047223 6.07930953\n",
            " 6.06235664 5.44571654 5.43673751 6.05340712 5.60719105 5.87903704\n",
            " 6.29365096 5.17695857 5.25971756 5.02011674 5.3053407  5.86473929\n",
            " 5.49329434 5.15874122 5.33410741 5.86809813 4.94861121 5.4956173\n",
            " 5.09324544 5.29471514 6.42781999 5.77581017 5.12129732 6.25100609\n",
            " 6.77100291 6.41917659 5.57018195 5.33223209 6.09086534 6.42742213\n",
            " 6.38267119 6.19623399 5.0116395  5.27675092 5.19513767 5.8909459\n",
            " 5.38222525 4.90809438 6.08712548 5.86295266 5.38359527 5.58691668\n",
            " 5.13851929 6.59522103 5.29605256 6.63890117 6.08391906 5.71269026\n",
            " 5.05389688 6.36098665 5.73147873 5.53761645]\n",
            "0.3381417750638547\n"
          ]
        }
      ]
    },
    {
      "cell_type": "markdown",
      "source": [
        "# Task 2.4. Apply LinearRegression to the following dataset:\n",
        "*   Energy efficiency: https://archive.ics.uci.edu/ml/datasets/Energy+efficiency.\n",
        "\n",
        "\n"
      ],
      "metadata": {
        "id": "jGxa2efd5N97"
      }
    },
    {
      "cell_type": "code",
      "source": [
        "#code\n",
        "dataset = pd.read_excel(\"Task4_ENB2012_data.xlsx\")\n",
        "\n",
        "X_train = dataset[list(dataset.columns)[:-2]]\n",
        "y_train = dataset[['Y1', 'Y2']]"
      ],
      "metadata": {
        "id": "bcO-jgg55XBr",
        "colab": {
          "base_uri": "https://localhost:8080/",
          "height": 423
        },
        "outputId": "bc18f473-0921-4470-a0c2-eed890ac9064"
      },
      "execution_count": 129,
      "outputs": [
        {
          "output_type": "execute_result",
          "data": {
            "text/plain": [
              "        Y1     Y2\n",
              "0    15.55  21.33\n",
              "1    15.55  21.33\n",
              "2    15.55  21.33\n",
              "3    15.55  21.33\n",
              "4    20.84  28.28\n",
              "..     ...    ...\n",
              "763  17.88  21.40\n",
              "764  16.54  16.88\n",
              "765  16.44  17.11\n",
              "766  16.48  16.61\n",
              "767  16.64  16.03\n",
              "\n",
              "[768 rows x 2 columns]"
            ],
            "text/html": [
              "\n",
              "  <div id=\"df-436ef42b-131e-4582-933b-5e58ff0a3f23\">\n",
              "    <div class=\"colab-df-container\">\n",
              "      <div>\n",
              "<style scoped>\n",
              "    .dataframe tbody tr th:only-of-type {\n",
              "        vertical-align: middle;\n",
              "    }\n",
              "\n",
              "    .dataframe tbody tr th {\n",
              "        vertical-align: top;\n",
              "    }\n",
              "\n",
              "    .dataframe thead th {\n",
              "        text-align: right;\n",
              "    }\n",
              "</style>\n",
              "<table border=\"1\" class=\"dataframe\">\n",
              "  <thead>\n",
              "    <tr style=\"text-align: right;\">\n",
              "      <th></th>\n",
              "      <th>Y1</th>\n",
              "      <th>Y2</th>\n",
              "    </tr>\n",
              "  </thead>\n",
              "  <tbody>\n",
              "    <tr>\n",
              "      <th>0</th>\n",
              "      <td>15.55</td>\n",
              "      <td>21.33</td>\n",
              "    </tr>\n",
              "    <tr>\n",
              "      <th>1</th>\n",
              "      <td>15.55</td>\n",
              "      <td>21.33</td>\n",
              "    </tr>\n",
              "    <tr>\n",
              "      <th>2</th>\n",
              "      <td>15.55</td>\n",
              "      <td>21.33</td>\n",
              "    </tr>\n",
              "    <tr>\n",
              "      <th>3</th>\n",
              "      <td>15.55</td>\n",
              "      <td>21.33</td>\n",
              "    </tr>\n",
              "    <tr>\n",
              "      <th>4</th>\n",
              "      <td>20.84</td>\n",
              "      <td>28.28</td>\n",
              "    </tr>\n",
              "    <tr>\n",
              "      <th>...</th>\n",
              "      <td>...</td>\n",
              "      <td>...</td>\n",
              "    </tr>\n",
              "    <tr>\n",
              "      <th>763</th>\n",
              "      <td>17.88</td>\n",
              "      <td>21.40</td>\n",
              "    </tr>\n",
              "    <tr>\n",
              "      <th>764</th>\n",
              "      <td>16.54</td>\n",
              "      <td>16.88</td>\n",
              "    </tr>\n",
              "    <tr>\n",
              "      <th>765</th>\n",
              "      <td>16.44</td>\n",
              "      <td>17.11</td>\n",
              "    </tr>\n",
              "    <tr>\n",
              "      <th>766</th>\n",
              "      <td>16.48</td>\n",
              "      <td>16.61</td>\n",
              "    </tr>\n",
              "    <tr>\n",
              "      <th>767</th>\n",
              "      <td>16.64</td>\n",
              "      <td>16.03</td>\n",
              "    </tr>\n",
              "  </tbody>\n",
              "</table>\n",
              "<p>768 rows × 2 columns</p>\n",
              "</div>\n",
              "      <button class=\"colab-df-convert\" onclick=\"convertToInteractive('df-436ef42b-131e-4582-933b-5e58ff0a3f23')\"\n",
              "              title=\"Convert this dataframe to an interactive table.\"\n",
              "              style=\"display:none;\">\n",
              "        \n",
              "  <svg xmlns=\"http://www.w3.org/2000/svg\" height=\"24px\"viewBox=\"0 0 24 24\"\n",
              "       width=\"24px\">\n",
              "    <path d=\"M0 0h24v24H0V0z\" fill=\"none\"/>\n",
              "    <path d=\"M18.56 5.44l.94 2.06.94-2.06 2.06-.94-2.06-.94-.94-2.06-.94 2.06-2.06.94zm-11 1L8.5 8.5l.94-2.06 2.06-.94-2.06-.94L8.5 2.5l-.94 2.06-2.06.94zm10 10l.94 2.06.94-2.06 2.06-.94-2.06-.94-.94-2.06-.94 2.06-2.06.94z\"/><path d=\"M17.41 7.96l-1.37-1.37c-.4-.4-.92-.59-1.43-.59-.52 0-1.04.2-1.43.59L10.3 9.45l-7.72 7.72c-.78.78-.78 2.05 0 2.83L4 21.41c.39.39.9.59 1.41.59.51 0 1.02-.2 1.41-.59l7.78-7.78 2.81-2.81c.8-.78.8-2.07 0-2.86zM5.41 20L4 18.59l7.72-7.72 1.47 1.35L5.41 20z\"/>\n",
              "  </svg>\n",
              "      </button>\n",
              "      \n",
              "  <style>\n",
              "    .colab-df-container {\n",
              "      display:flex;\n",
              "      flex-wrap:wrap;\n",
              "      gap: 12px;\n",
              "    }\n",
              "\n",
              "    .colab-df-convert {\n",
              "      background-color: #E8F0FE;\n",
              "      border: none;\n",
              "      border-radius: 50%;\n",
              "      cursor: pointer;\n",
              "      display: none;\n",
              "      fill: #1967D2;\n",
              "      height: 32px;\n",
              "      padding: 0 0 0 0;\n",
              "      width: 32px;\n",
              "    }\n",
              "\n",
              "    .colab-df-convert:hover {\n",
              "      background-color: #E2EBFA;\n",
              "      box-shadow: 0px 1px 2px rgba(60, 64, 67, 0.3), 0px 1px 3px 1px rgba(60, 64, 67, 0.15);\n",
              "      fill: #174EA6;\n",
              "    }\n",
              "\n",
              "    [theme=dark] .colab-df-convert {\n",
              "      background-color: #3B4455;\n",
              "      fill: #D2E3FC;\n",
              "    }\n",
              "\n",
              "    [theme=dark] .colab-df-convert:hover {\n",
              "      background-color: #434B5C;\n",
              "      box-shadow: 0px 1px 3px 1px rgba(0, 0, 0, 0.15);\n",
              "      filter: drop-shadow(0px 1px 2px rgba(0, 0, 0, 0.3));\n",
              "      fill: #FFFFFF;\n",
              "    }\n",
              "  </style>\n",
              "\n",
              "      <script>\n",
              "        const buttonEl =\n",
              "          document.querySelector('#df-436ef42b-131e-4582-933b-5e58ff0a3f23 button.colab-df-convert');\n",
              "        buttonEl.style.display =\n",
              "          google.colab.kernel.accessAllowed ? 'block' : 'none';\n",
              "\n",
              "        async function convertToInteractive(key) {\n",
              "          const element = document.querySelector('#df-436ef42b-131e-4582-933b-5e58ff0a3f23');\n",
              "          const dataTable =\n",
              "            await google.colab.kernel.invokeFunction('convertToInteractive',\n",
              "                                                     [key], {});\n",
              "          if (!dataTable) return;\n",
              "\n",
              "          const docLinkHtml = 'Like what you see? Visit the ' +\n",
              "            '<a target=\"_blank\" href=https://colab.research.google.com/notebooks/data_table.ipynb>data table notebook</a>'\n",
              "            + ' to learn more about interactive tables.';\n",
              "          element.innerHTML = '';\n",
              "          dataTable['output_type'] = 'display_data';\n",
              "          await google.colab.output.renderOutput(dataTable, element);\n",
              "          const docLink = document.createElement('div');\n",
              "          docLink.innerHTML = docLinkHtml;\n",
              "          element.appendChild(docLink);\n",
              "        }\n",
              "      </script>\n",
              "    </div>\n",
              "  </div>\n",
              "  "
            ]
          },
          "metadata": {},
          "execution_count": 129
        }
      ]
    },
    {
      "cell_type": "code",
      "source": [
        "#code\n",
        "regressor = LinearRegression()\n",
        "regressor.fit(X_train, y_train)\n",
        "print(regressor.intercept_)\n",
        "print(regressor.coef_)\n",
        "\n",
        "y_pred = regressor.predict(X_train)\n",
        "print(y_pred)\n",
        "\n",
        "r2 = metrics.r2_score(y_train, y_pred)\n",
        "print(r2)"
      ],
      "metadata": {
        "colab": {
          "base_uri": "https://localhost:8080/"
        },
        "id": "3zMCYL2g67TV",
        "outputId": "dc3e96d2-14c1-4fa5-82ad-b7cb7b9fc8bd"
      },
      "execution_count": 132,
      "outputs": [
        {
          "output_type": "stream",
          "name": "stdout",
          "text": [
            "[83.74469531 96.79088542]\n",
            "[[-6.46128634e+01 -2.08535170e+11  2.08535170e+11  4.17070339e+11\n",
            "   4.17043376e+00 -2.30573588e-02  1.99319253e+01  2.03831694e-01]\n",
            " [-7.05031022e+01 -3.69624831e+11  3.69624831e+11  7.39249663e+11\n",
            "   4.28475904e+00  1.21879281e-01  1.47156169e+01  4.06425628e-02]]\n",
            "[[22.64944467 25.82870802]\n",
            " [22.62638731 25.9505873 ]\n",
            " [22.60332995 26.07246659]\n",
            " ...\n",
            " [19.17025051 19.90664094]\n",
            " [19.14719315 20.02852022]\n",
            " [19.12413579 20.1503995 ]]\n",
            "0.9020271533385962\n"
          ]
        }
      ]
    },
    {
      "cell_type": "markdown",
      "source": [
        "# Finally,\n",
        "Save a copy in your Github. Remember renaming the notebook."
      ],
      "metadata": {
        "id": "Ok7RGkea_b7n"
      }
    }
  ]
}