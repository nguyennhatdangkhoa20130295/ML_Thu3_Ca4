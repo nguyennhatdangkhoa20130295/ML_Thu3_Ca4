{
  "nbformat": 4,
  "nbformat_minor": 0,
  "metadata": {
    "colab": {
      "provenance": [],
      "include_colab_link": true
    },
    "kernelspec": {
      "name": "python3",
      "display_name": "Python 3"
    },
    "language_info": {
      "name": "python"
    }
  },
  "cells": [
    {
      "cell_type": "markdown",
      "metadata": {
        "id": "view-in-github",
        "colab_type": "text"
      },
      "source": [
        "<a href=\"https://colab.research.google.com/github/nguyennhatdangkhoa20130295/ML_Thu3_Ca4/blob/main/Lab_5_20130295_NguyenNhatDangKhoa.ipynb\" target=\"_parent\"><img src=\"https://colab.research.google.com/assets/colab-badge.svg\" alt=\"Open In Colab\"/></a>"
      ]
    },
    {
      "cell_type": "markdown",
      "source": [
        "# This lab is to deal with **SVM** to classification tasks and compare its performance with other competitive algorithms. In general, **SVM** is one of the most popular and widely used supervised machine learning algorithms.\n",
        "\n",
        "*   **Deadline: 23:59, 17/03/2023**\n",
        "\n"
      ],
      "metadata": {
        "id": "LMzehe0sy5wr"
      }
    },
    {
      "cell_type": "markdown",
      "source": [
        "# Import libraries"
      ],
      "metadata": {
        "id": "H4nJmxp9zGX4"
      }
    },
    {
      "cell_type": "code",
      "execution_count": 1,
      "metadata": {
        "id": "DoVWQ8AEyc-C",
        "colab": {
          "base_uri": "https://localhost:8080/"
        },
        "outputId": "ffb5c6d1-664b-4f4b-cd14-9390e74d8055"
      },
      "outputs": [
        {
          "output_type": "stream",
          "name": "stdout",
          "text": [
            "Mounted at /content/gdrive\n",
            "/content/gdrive/MyDrive/ML\n"
          ]
        }
      ],
      "source": [
        "# code\n",
        "from google.colab import drive\n",
        "drive.mount('/content/gdrive')\n",
        "%cd '/content/gdrive/MyDrive/ML'"
      ]
    },
    {
      "cell_type": "code",
      "source": [
        "#code\n",
        "import pandas as pd\n",
        "import numpy as np\n",
        "from sklearn.svm import SVC\n",
        "from sklearn import datasets\n",
        "import matplotlib.pyplot as plt\n",
        "from sklearn.metrics import accuracy_score \n",
        "from sklearn.metrics import recall_score\n",
        "from sklearn.metrics import f1_score\n",
        "from sklearn.metrics import precision_score\n",
        "from sklearn.metrics import classification_report, confusion_matrix\n",
        "from sklearn.model_selection import train_test_split\n",
        "from prettytable import PrettyTable\n",
        "from sklearn.tree import DecisionTreeClassifier\n",
        "from sklearn.linear_model import LogisticRegression\n",
        "from sklearn.neighbors import KNeighborsClassifier"
      ],
      "metadata": {
        "id": "hOf7oxE2JEzx"
      },
      "execution_count": 52,
      "outputs": []
    },
    {
      "cell_type": "markdown",
      "source": [
        "#Task 1. \n",
        "For breast cancer dataset (https://tinyurl.com/3vme8hr3) which could be loaded from datasets in sklearn as follows:\n",
        "\n",
        "```\n",
        "#Import scikit-learn dataset library\n",
        "from sklearn import datasets\n",
        "\n",
        "#Load dataset\n",
        "cancer = datasets.load_breast_cancer()\n",
        "```\n",
        "\n",
        "*   1.1.\tApply SVM algorithm to above dataset using linear kernel.\n",
        "*   1.2.\tCompare the obtained results with other competitive algorithms (Logistic Regression, Decision Tree, kNN) based on metrics: accuracy, precision, recall, f1 measures.\n",
        "\n"
      ],
      "metadata": {
        "id": "kNv07ARGzOUm"
      }
    },
    {
      "cell_type": "code",
      "source": [
        "# code\n",
        "# 1.1\n",
        "cancer = datasets.load_breast_cancer()\n",
        "X = cancer.data\n",
        "y = cancer.target\n",
        "X_train, X_test, y_train, y_test = train_test_split(X, y, test_size=0.2, random_state=20)\n",
        "svm_model = SVC(kernel ='linear')\n",
        "svm_model.fit(X_train, y_train)\n",
        "y_pred = svm_model.predict(X_test)\n",
        "print(confusion_matrix(y_test, y_pred))\n",
        "print(classification_report(y_test, y_pred))"
      ],
      "metadata": {
        "id": "sOsg77IBzEyo",
        "colab": {
          "base_uri": "https://localhost:8080/"
        },
        "outputId": "2a3927b9-dc37-4464-9e87-96a1a3f8f5a1"
      },
      "execution_count": 64,
      "outputs": [
        {
          "output_type": "stream",
          "name": "stdout",
          "text": [
            "[[45  3]\n",
            " [ 2 64]]\n",
            "              precision    recall  f1-score   support\n",
            "\n",
            "           0       0.96      0.94      0.95        48\n",
            "           1       0.96      0.97      0.96        66\n",
            "\n",
            "    accuracy                           0.96       114\n",
            "   macro avg       0.96      0.95      0.95       114\n",
            "weighted avg       0.96      0.96      0.96       114\n",
            "\n"
          ]
        }
      ]
    },
    {
      "cell_type": "code",
      "source": [
        "# 1.2\n",
        "\n",
        "lr = LogisticRegression()\n",
        "lr.fit(X_train, y_train)\n",
        "lr_pred = lr.predict(X_test)\n",
        "\n",
        "dt = DecisionTreeClassifier()\n",
        "dt.fit(X_train, y_train)\n",
        "dt_pred = dt.predict(X_test)\n",
        "\n",
        "knn = KNeighborsClassifier()\n",
        "knn.fit(X_train, y_train)\n",
        "knn_pred = knn.predict(X_test)\n",
        "\n",
        "svm_acc = accuracy_score(y_test, y_pred)\n",
        "svm_prec = precision_score(y_test, y_pred)\n",
        "svm_recall = recall_score(y_test, y_pred)\n",
        "svm_f1 = f1_score(y_test, y_pred)\n",
        "\n",
        "lr_acc = accuracy_score(y_test, lr_pred)\n",
        "lr_prec = precision_score(y_test, lr_pred)\n",
        "lr_recall = recall_score(y_test, lr_pred)\n",
        "lr_f1 = f1_score(y_test, lr_pred)\n",
        "\n",
        "dt_acc = accuracy_score(y_test, dt_pred)\n",
        "dt_prec = precision_score(y_test, dt_pred)\n",
        "dt_recall = recall_score(y_test, dt_pred)\n",
        "dt_f1 = f1_score(y_test, dt_pred)\n",
        "\n",
        "knn_acc = accuracy_score(y_test, knn_pred)\n",
        "knn_prec = precision_score(y_test, knn_pred)\n",
        "knn_recall = recall_score(y_test, knn_pred)\n",
        "knn_f1 = f1_score(y_test, knn_pred)\n",
        "\n",
        "t = PrettyTable(['Algorithm','Accuracy', 'Precision', 'Recall', 'F1'])\n",
        "t.add_row([\"Logistic Regression\", lr_acc, lr_prec, lr_recall, lr_f1])\n",
        "t.add_row([\"Decision Tree\", dt_acc, dt_prec, dt_recall, dt_f1])\n",
        "t.add_row([\"kNN\", knn_acc, knn_prec, knn_recall, knn_f1])\n",
        "\n",
        "print(t)\n"
      ],
      "metadata": {
        "colab": {
          "base_uri": "https://localhost:8080/"
        },
        "id": "5PkbcImCkv8_",
        "outputId": "69f064a2-6f4a-4db0-b361-3e16e1bc4edb"
      },
      "execution_count": 66,
      "outputs": [
        {
          "output_type": "stream",
          "name": "stdout",
          "text": [
            "+---------------------+--------------------+--------------------+--------------------+--------------------+\n",
            "|      Algorithm      |      Accuracy      |     Precision      |       Recall       |         F1         |\n",
            "+---------------------+--------------------+--------------------+--------------------+--------------------+\n",
            "| Logistic Regression | 0.9298245614035088 | 0.9264705882352942 | 0.9545454545454546 | 0.9402985074626866 |\n",
            "|    Decision Tree    | 0.9473684210526315 | 0.9411764705882353 | 0.9696969696969697 | 0.955223880597015  |\n",
            "|         kNN         | 0.9385964912280702 | 0.927536231884058  | 0.9696969696969697 | 0.9481481481481481 |\n",
            "+---------------------+--------------------+--------------------+--------------------+--------------------+\n"
          ]
        },
        {
          "output_type": "stream",
          "name": "stderr",
          "text": [
            "/usr/local/lib/python3.9/dist-packages/sklearn/linear_model/_logistic.py:458: ConvergenceWarning: lbfgs failed to converge (status=1):\n",
            "STOP: TOTAL NO. of ITERATIONS REACHED LIMIT.\n",
            "\n",
            "Increase the number of iterations (max_iter) or scale the data as shown in:\n",
            "    https://scikit-learn.org/stable/modules/preprocessing.html\n",
            "Please also refer to the documentation for alternative solver options:\n",
            "    https://scikit-learn.org/stable/modules/linear_model.html#logistic-regression\n",
            "  n_iter_i = _check_optimize_result(\n"
          ]
        }
      ]
    },
    {
      "cell_type": "markdown",
      "source": [
        "#Task 2. \n",
        "\n",
        "*   1.1.\tPerform SVM algorithm to **Iris dataset** using **linear kernel**.\n",
        "*   1.2.\tCompare the obtained results in 1.1 with SVM using other kernels (**Polynomial Kernel, Gaussian Kernel, Sigmoid Kernel, Radial Basis Function Kernel**). Some metrics could be used: accuracy, precision, recall, f1 measures\n",
        "\n",
        "\n",
        "\n"
      ],
      "metadata": {
        "id": "S43IoUT-0OQq"
      }
    },
    {
      "cell_type": "code",
      "source": [
        "# code\n",
        "# 2.1\n",
        "iris = datasets.load_iris()\n",
        "X = iris.data\n",
        "y = iris.target\n",
        "X_train, X_test, y_train, y_test = train_test_split(X, y, test_size=0.2, random_state=20)\n",
        "svm_model = SVC(kernel ='linear')\n",
        "svm_model.fit(X_train, y_train)\n",
        "y_pred = svm_model.predict(X_test)\n",
        "print(confusion_matrix(y_test, y_pred))\n",
        "print(classification_report(y_test, y_pred))"
      ],
      "metadata": {
        "id": "_xhPpF5b033h",
        "colab": {
          "base_uri": "https://localhost:8080/"
        },
        "outputId": "e2b6b862-f1d2-45e2-e6a5-3c87595a8983"
      },
      "execution_count": 71,
      "outputs": [
        {
          "output_type": "stream",
          "name": "stdout",
          "text": [
            "[[ 8  0  0]\n",
            " [ 0 11  0]\n",
            " [ 0  1 10]]\n",
            "              precision    recall  f1-score   support\n",
            "\n",
            "           0       1.00      1.00      1.00         8\n",
            "           1       0.92      1.00      0.96        11\n",
            "           2       1.00      0.91      0.95        11\n",
            "\n",
            "    accuracy                           0.97        30\n",
            "   macro avg       0.97      0.97      0.97        30\n",
            "weighted avg       0.97      0.97      0.97        30\n",
            "\n"
          ]
        }
      ]
    },
    {
      "cell_type": "code",
      "source": [
        "# 2.2\n",
        "\n",
        "svm_poly = SVC(kernel='poly')\n",
        "svm_poly.fit(X_train, y_train)\n",
        "svm_poly_pred = svm_poly.predict(X_test)\n",
        "\n",
        "svm_rbf = SVC(kernel='rbf')\n",
        "svm_rbf.fit(X_train, y_train)\n",
        "svm_rbf_pred = svm_rbf.predict(X_test)\n",
        "\n",
        "svm_sigmoid = SVC(kernel='sigmoid')\n",
        "svm_sigmoid.fit(X_train, y_train)\n",
        "svm_sigmoid_pred = svm_sigmoid.predict(X_test)\n",
        "\n",
        "poly_acc = accuracy_score(y_test, svm_poly_pred)\n",
        "poly_prec = precision_score(y_test, svm_poly_pred, average='macro')\n",
        "poly_recall = recall_score(y_test, svm_poly_pred, average='macro')\n",
        "poly_f1 = f1_score(y_test, svm_poly_pred, average='macro')\n",
        "\n",
        "rbf_acc = accuracy_score(y_test, svm_rbf_pred)\n",
        "rbf_prec = precision_score(y_test, svm_rbf_pred, average='macro')\n",
        "rbf_recall = recall_score(y_test, svm_rbf_pred, average='macro')\n",
        "rbf_f1 = f1_score(y_test, svm_rbf_pred, average='macro')\n",
        "\n",
        "sigmoid_acc = accuracy_score(y_test, svm_sigmoid_pred)\n",
        "sigmoid_prec = precision_score(y_test, svm_sigmoid_pred, average='macro')\n",
        "sigmoid_recall = recall_score(y_test, svm_sigmoid_pred, average='macro')\n",
        "sigmoid_f1 = f1_score(y_test, svm_sigmoid_pred, average='macro')\n",
        "\n",
        "\n",
        "t = PrettyTable(['Kernel','Accuracy', 'Precision', 'Recall', 'F1'])\n",
        "t.add_row([\"Polynomial\", poly_acc, poly_prec, poly_recall, poly_f1])\n",
        "t.add_row([\"Radial Basis Function\", rbf_acc, rbf_prec, rbf_recall, rbf_f1])\n",
        "t.add_row([\"Sigmoid\", sigmoid_acc, sigmoid_prec, sigmoid_recall, sigmoid_f1])\n",
        "\n",
        "print(t)"
      ],
      "metadata": {
        "colab": {
          "base_uri": "https://localhost:8080/"
        },
        "id": "74N87cb0tQ6I",
        "outputId": "0ffc9204-f8cc-4439-f9d2-11df74bc7888"
      },
      "execution_count": 72,
      "outputs": [
        {
          "output_type": "stream",
          "name": "stdout",
          "text": [
            "+-----------------------+---------------------+---------------------+--------------------+---------------------+\n",
            "|         Kernel        |       Accuracy      |      Precision      |       Recall       |          F1         |\n",
            "+-----------------------+---------------------+---------------------+--------------------+---------------------+\n",
            "|       Polynomial      |  0.9666666666666667 |  0.9722222222222222 | 0.9696969696969697 |  0.9696342305037957 |\n",
            "| Radial Basis Function |         1.0         |         1.0         |        1.0         |         1.0         |\n",
            "|        Sigmoid        | 0.26666666666666666 | 0.08888888888888889 | 0.3333333333333333 | 0.14035087719298248 |\n",
            "+-----------------------+---------------------+---------------------+--------------------+---------------------+\n"
          ]
        },
        {
          "output_type": "stream",
          "name": "stderr",
          "text": [
            "/usr/local/lib/python3.9/dist-packages/sklearn/metrics/_classification.py:1344: UndefinedMetricWarning: Precision is ill-defined and being set to 0.0 in labels with no predicted samples. Use `zero_division` parameter to control this behavior.\n",
            "  _warn_prf(average, modifier, msg_start, len(result))\n"
          ]
        }
      ]
    },
    {
      "cell_type": "markdown",
      "source": [
        "#Task 3. \n",
        "Compare the performance of selected classification algorithms (Decision Tree, kNN, Logistic Regression) and SVM (using different kernels) with mnist dataset based on accuracy, precision, recall, f1 measures.\n"
      ],
      "metadata": {
        "id": "b52OPWPD2afi"
      }
    },
    {
      "cell_type": "code",
      "source": [
        "# code\n",
        "data = datasets.load_digits()\n",
        "X = data.data\n",
        "y = data.target\n",
        "X_train, X_test, y_train, y_test = train_test_split(X, y, test_size=0.2, random_state=20)\n",
        "svm_model = SVC(kernel ='linear')\n",
        "svm_model.fit(X_train, y_train)\n",
        "y_pred = svm_model.predict(X_test)\n",
        "\n",
        "lr = LogisticRegression()\n",
        "lr.fit(X_train, y_train)\n",
        "lr_pred = lr.predict(X_test)\n",
        "\n",
        "dt = DecisionTreeClassifier()\n",
        "dt.fit(X_train, y_train)\n",
        "dt_pred = dt.predict(X_test)\n",
        "\n",
        "knn = KNeighborsClassifier()\n",
        "knn.fit(X_train, y_train)\n",
        "knn_pred = knn.predict(X_test)\n",
        "\n",
        "svm_acc = accuracy_score(y_test, y_pred)\n",
        "svm_prec = precision_score(y_test, y_pred, average='macro')\n",
        "svm_recall = recall_score(y_test, y_pred, average='macro')\n",
        "svm_f1 = f1_score(y_test, y_pred, average='macro')\n",
        "\n",
        "lr_acc = accuracy_score(y_test, lr_pred)\n",
        "lr_prec = precision_score(y_test, lr_pred, average='macro')\n",
        "lr_recall = recall_score(y_test, lr_pred, average='macro')\n",
        "lr_f1 = f1_score(y_test, lr_pred, average='macro')\n",
        "\n",
        "dt_acc = accuracy_score(y_test, dt_pred)\n",
        "dt_prec = precision_score(y_test, dt_pred, average='macro')\n",
        "dt_recall = recall_score(y_test, dt_pred, average='macro')\n",
        "dt_f1 = f1_score(y_test, dt_pred, average='macro')\n",
        "\n",
        "knn_acc = accuracy_score(y_test, knn_pred)\n",
        "knn_prec = precision_score(y_test, knn_pred, average='macro')\n",
        "knn_recall = recall_score(y_test, knn_pred, average='macro')\n",
        "knn_f1 = f1_score(y_test, knn_pred, average='macro')\n",
        "\n",
        "svm_poly = SVC(kernel='poly')\n",
        "svm_poly.fit(X_train, y_train)\n",
        "svm_poly_pred = svm_poly.predict(X_test)\n",
        "\n",
        "svm_rbf = SVC(kernel='rbf')\n",
        "svm_rbf.fit(X_train, y_train)\n",
        "svm_rbf_pred = svm_rbf.predict(X_test)\n",
        "\n",
        "svm_sigmoid = SVC(kernel='sigmoid')\n",
        "svm_sigmoid.fit(X_train, y_train)\n",
        "svm_sigmoid_pred = svm_sigmoid.predict(X_test)\n",
        "\n",
        "poly_acc = accuracy_score(y_test, svm_poly_pred)\n",
        "poly_prec = precision_score(y_test, svm_poly_pred, average='macro')\n",
        "poly_recall = recall_score(y_test, svm_poly_pred, average='macro')\n",
        "poly_f1 = f1_score(y_test, svm_poly_pred, average='macro')\n",
        "\n",
        "rbf_acc = accuracy_score(y_test, svm_rbf_pred)\n",
        "rbf_prec = precision_score(y_test, svm_rbf_pred, average='macro')\n",
        "rbf_recall = recall_score(y_test, svm_rbf_pred, average='macro')\n",
        "rbf_f1 = f1_score(y_test, svm_rbf_pred, average='macro')\n",
        "\n",
        "sigmoid_acc = accuracy_score(y_test, svm_sigmoid_pred)\n",
        "sigmoid_prec = precision_score(y_test, svm_sigmoid_pred, average='macro')\n",
        "sigmoid_recall = recall_score(y_test, svm_sigmoid_pred, average='macro')\n",
        "sigmoid_f1 = f1_score(y_test, svm_sigmoid_pred, average='macro')\n",
        "\n",
        "t = PrettyTable(['Kernels/Algorithms','Accuracy', 'Precision', 'Recall', 'F1'])\n",
        "t.add_row([\"Logistic Regression\", lr_acc, lr_prec, lr_recall, lr_f1])\n",
        "t.add_row([\"Decision Tree\", dt_acc, dt_prec, dt_recall, dt_f1])\n",
        "t.add_row([\"kNN\", knn_acc, knn_prec, knn_recall, knn_f1])\n",
        "t.add_row([\"Polynomial\", poly_acc, poly_prec, poly_recall, poly_f1])\n",
        "t.add_row([\"Radial Basis Function\", rbf_acc, rbf_prec, rbf_recall, rbf_f1])\n",
        "t.add_row([\"Sigmoid\", sigmoid_acc, sigmoid_prec, sigmoid_recall, sigmoid_f1])\n",
        "\n",
        "print(t)"
      ],
      "metadata": {
        "colab": {
          "base_uri": "https://localhost:8080/"
        },
        "id": "vjRwlMaXJddH",
        "outputId": "57e3701d-360e-4f05-de25-f06d71aa3b64"
      },
      "execution_count": 74,
      "outputs": [
        {
          "output_type": "stream",
          "name": "stderr",
          "text": [
            "/usr/local/lib/python3.9/dist-packages/sklearn/linear_model/_logistic.py:458: ConvergenceWarning: lbfgs failed to converge (status=1):\n",
            "STOP: TOTAL NO. of ITERATIONS REACHED LIMIT.\n",
            "\n",
            "Increase the number of iterations (max_iter) or scale the data as shown in:\n",
            "    https://scikit-learn.org/stable/modules/preprocessing.html\n",
            "Please also refer to the documentation for alternative solver options:\n",
            "    https://scikit-learn.org/stable/modules/linear_model.html#logistic-regression\n",
            "  n_iter_i = _check_optimize_result(\n"
          ]
        },
        {
          "output_type": "stream",
          "name": "stdout",
          "text": [
            "+-----------------------+--------------------+--------------------+--------------------+--------------------+\n",
            "|   Kernels/Algorithms  |      Accuracy      |     Precision      |       Recall       |         F1         |\n",
            "+-----------------------+--------------------+--------------------+--------------------+--------------------+\n",
            "|  Logistic Regression  | 0.9805555555555555 | 0.9797161127403061 | 0.9803326439056178 | 0.979849347985897  |\n",
            "|     Decision Tree     | 0.8722222222222222 | 0.8703573192019979 | 0.8704393225064113 | 0.8694127609290924 |\n",
            "|          kNN          | 0.9861111111111112 | 0.9847186147186147 | 0.984737554112554  | 0.9845359412093282 |\n",
            "|       Polynomial      | 0.9888888888888889 | 0.9878411127403062 | 0.9884974747474746 | 0.9880884444106472 |\n",
            "| Radial Basis Function | 0.9833333333333333 | 0.9820391414141414 | 0.983201307500088  | 0.9825488798628668 |\n",
            "|        Sigmoid        | 0.9277777777777778 | 0.9259609249682779 | 0.9256486959686369 | 0.9250830689097755 |\n",
            "+-----------------------+--------------------+--------------------+--------------------+--------------------+\n"
          ]
        }
      ]
    },
    {
      "cell_type": "markdown",
      "source": [
        "#Task 4. \n",
        "Compare the performance of selected classification algorithms (Decision Tree, kNN, Logistic Regression) and SVM (using different kernels) with **credit card dataset** based on accuracy, precision, recall, f1 measures.\n",
        "\n",
        "*   Give some comments on the obtained results\n",
        "*   Identify issues with dataset, and propose the solutions to these issues\n",
        "\n"
      ],
      "metadata": {
        "id": "Z5pp7_h-aP2u"
      }
    },
    {
      "cell_type": "code",
      "source": [
        "# code\n",
        "data = pd.read_csv(\"creditcard.csv\")\n",
        "X = data.data\n",
        "y = data.target\n",
        "X_train, X_test, y_train, y_test = train_test_split(X, y, test_size=0.2, random_state=20)\n",
        "svm_model = SVC(kernel ='linear')\n",
        "svm_model.fit(X_train, y_train)\n",
        "y_pred = svm_model.predict(X_test)\n",
        "\n",
        "lr = LogisticRegression()\n",
        "lr.fit(X_train, y_train)\n",
        "lr_pred = lr.predict(X_test)\n",
        "\n",
        "dt = DecisionTreeClassifier()\n",
        "dt.fit(X_train, y_train)\n",
        "dt_pred = dt.predict(X_test)\n",
        "\n",
        "knn = KNeighborsClassifier()\n",
        "knn.fit(X_train, y_train)\n",
        "knn_pred = knn.predict(X_test)\n",
        "\n",
        "svm_acc = accuracy_score(y_test, y_pred)\n",
        "svm_prec = precision_score(y_test, y_pred, average='macro')\n",
        "svm_recall = recall_score(y_test, y_pred, average='macro')\n",
        "svm_f1 = f1_score(y_test, y_pred, average='macro')\n",
        "\n",
        "lr_acc = accuracy_score(y_test, lr_pred)\n",
        "lr_prec = precision_score(y_test, lr_pred, average='macro')\n",
        "lr_recall = recall_score(y_test, lr_pred, average='macro')\n",
        "lr_f1 = f1_score(y_test, lr_pred, average='macro')\n",
        "\n",
        "dt_acc = accuracy_score(y_test, dt_pred)\n",
        "dt_prec = precision_score(y_test, dt_pred, average='macro')\n",
        "dt_recall = recall_score(y_test, dt_pred, average='macro')\n",
        "dt_f1 = f1_score(y_test, dt_pred, average='macro')\n",
        "\n",
        "knn_acc = accuracy_score(y_test, knn_pred)\n",
        "knn_prec = precision_score(y_test, knn_pred, average='macro')\n",
        "knn_recall = recall_score(y_test, knn_pred, average='macro')\n",
        "knn_f1 = f1_score(y_test, knn_pred, average='macro')\n",
        "\n",
        "svm_poly = SVC(kernel='poly')\n",
        "svm_poly.fit(X_train, y_train)\n",
        "svm_poly_pred = svm_poly.predict(X_test)\n",
        "\n",
        "svm_rbf = SVC(kernel='rbf')\n",
        "svm_rbf.fit(X_train, y_train)\n",
        "svm_rbf_pred = svm_rbf.predict(X_test)\n",
        "\n",
        "svm_sigmoid = SVC(kernel='sigmoid')\n",
        "svm_sigmoid.fit(X_train, y_train)\n",
        "svm_sigmoid_pred = svm_sigmoid.predict(X_test)\n",
        "\n",
        "poly_acc = accuracy_score(y_test, svm_poly_pred)\n",
        "poly_prec = precision_score(y_test, svm_poly_pred, average='macro')\n",
        "poly_recall = recall_score(y_test, svm_poly_pred, average='macro')\n",
        "poly_f1 = f1_score(y_test, svm_poly_pred, average='macro')\n",
        "\n",
        "rbf_acc = accuracy_score(y_test, svm_rbf_pred)\n",
        "rbf_prec = precision_score(y_test, svm_rbf_pred, average='macro')\n",
        "rbf_recall = recall_score(y_test, svm_rbf_pred, average='macro')\n",
        "rbf_f1 = f1_score(y_test, svm_rbf_pred, average='macro')\n",
        "\n",
        "sigmoid_acc = accuracy_score(y_test, svm_sigmoid_pred)\n",
        "sigmoid_prec = precision_score(y_test, svm_sigmoid_pred, average='macro')\n",
        "sigmoid_recall = recall_score(y_test, svm_sigmoid_pred, average='macro')\n",
        "sigmoid_f1 = f1_score(y_test, svm_sigmoid_pred, average='macro')\n",
        "\n",
        "t = PrettyTable(['Kernels/Algorithms','Accuracy', 'Precision', 'Recall', 'F1'])\n",
        "t.add_row([\"Logistic Regression\", lr_acc, lr_prec, lr_recall, lr_f1])\n",
        "t.add_row([\"Decision Tree\", dt_acc, dt_prec, dt_recall, dt_f1])\n",
        "t.add_row([\"kNN\", knn_acc, knn_prec, knn_recall, knn_f1])\n",
        "t.add_row([\"Polynomial\", poly_acc, poly_prec, poly_recall, poly_f1])\n",
        "t.add_row([\"Radial Basis Function\", rbf_acc, rbf_prec, rbf_recall, rbf_f1])\n",
        "t.add_row([\"Sigmoid\", sigmoid_acc, sigmoid_prec, sigmoid_recall, sigmoid_f1])\n",
        "\n",
        "print(t)"
      ],
      "metadata": {
        "id": "Rw_-8FIf2KxW"
      },
      "execution_count": null,
      "outputs": []
    },
    {
      "cell_type": "markdown",
      "source": [
        "#Finally,\n",
        "Save a copy in your Github. Remember renaming the notebook."
      ],
      "metadata": {
        "id": "Ok7RGkea_b7n"
      }
    }
  ]
}