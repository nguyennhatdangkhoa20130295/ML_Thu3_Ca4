{
  "nbformat": 4,
  "nbformat_minor": 0,
  "metadata": {
    "colab": {
      "provenance": [],
      "include_colab_link": true
    },
    "kernelspec": {
      "name": "python3",
      "display_name": "Python 3"
    },
    "language_info": {
      "name": "python"
    }
  },
  "cells": [
    {
      "cell_type": "markdown",
      "metadata": {
        "id": "view-in-github",
        "colab_type": "text"
      },
      "source": [
        "<a href=\"https://colab.research.google.com/github/nguyennhatdangkhoa20130295/ML_Thu3_Ca4/blob/main/Lab_4_20130295_NguyenNhatDangKhoa.ipynb\" target=\"_parent\"><img src=\"https://colab.research.google.com/assets/colab-badge.svg\" alt=\"Open In Colab\"/></a>"
      ]
    },
    {
      "cell_type": "markdown",
      "source": [
        "# This lab is to continous dealing with **Logistic Regression**, **kNN**, and **Decision Tree** alogirthms applied to classification tasks. \n",
        "\n",
        "*   **Deadline: 23:59, 12/03/2023**\n",
        "\n"
      ],
      "metadata": {
        "id": "LMzehe0sy5wr"
      }
    },
    {
      "cell_type": "markdown",
      "source": [
        "# Import libraries"
      ],
      "metadata": {
        "id": "H4nJmxp9zGX4"
      }
    },
    {
      "cell_type": "code",
      "execution_count": 102,
      "metadata": {
        "id": "DoVWQ8AEyc-C",
        "colab": {
          "base_uri": "https://localhost:8080/"
        },
        "outputId": "86e81b0d-c94d-4b32-a858-649a96e48e80"
      },
      "outputs": [
        {
          "output_type": "stream",
          "name": "stdout",
          "text": [
            "Drive already mounted at /content/gdrive; to attempt to forcibly remount, call drive.mount(\"/content/gdrive\", force_remount=True).\n",
            "/content/gdrive/MyDrive/ML\n"
          ]
        }
      ],
      "source": [
        "# code\n",
        "from google.colab import drive\n",
        "drive.mount('/content/gdrive')\n",
        "%cd '/content/gdrive/MyDrive/ML'"
      ]
    },
    {
      "cell_type": "code",
      "source": [
        "import pandas as pd\n",
        "import numpy as np\n",
        "import matplotlib.pyplot as plt\n",
        "from sklearn.linear_model import LogisticRegression\n",
        "from sklearn.metrics import confusion_matrix\n",
        "from sklearn.metrics import accuracy_score\n",
        "from sklearn import datasets\n",
        "from sklearn.model_selection import train_test_split\n",
        "from sklearn.metrics._plot.confusion_matrix import ConfusionMatrixDisplay\n",
        "from sklearn.metrics import confusion_matrix\n",
        "from sklearn.metrics import precision_score\n",
        "from sklearn.neighbors import KNeighborsClassifier\n",
        "from sklearn.metrics import recall_score\n",
        "from sklearn.metrics import f1_score\n",
        "from sklearn.tree import DecisionTreeClassifier"
      ],
      "metadata": {
        "id": "2lsGE4Ut8Dul"
      },
      "execution_count": null,
      "outputs": []
    },
    {
      "cell_type": "markdown",
      "source": [
        "#Task 1. \n",
        "Apply **LogisticRegression** to iris dataset which aims at classifying species of iris based on sepal_length (chiều dài đài hoa), sepal_width, petal_length (chiều dài cánh hoa), petal_width. The species are '**setosa**' '**versicolor**' and '**virginica**'. \n",
        "\n",
        "\n",
        "\n",
        "```\n",
        "from sklearn import datasets\n",
        "data4 = datasets.load_iris()\n",
        "```\n",
        "\n",
        "\n"
      ],
      "metadata": {
        "id": "kNv07ARGzOUm"
      }
    },
    {
      "cell_type": "code",
      "source": [
        "# code\n",
        "data4 = datasets.load_iris()\n",
        "X_train = data4.data\n",
        "y_train = data4.target\n",
        "# X_train, X_test, y_train, y_test = train_test_split(X, y)\n",
        "regression = LogisticRegression()\n",
        "regression.fit(X_train, y_train)\n",
        "y_pred = regression.predict(X_train)\n",
        "accuracy = accuracy_score(y_train, y_pred)\n",
        "cm = confusion_matrix(y_train, y_pred)\n",
        "print(y_pred)\n",
        "print(cm)\n",
        "print(\"Accuracy: \", accuracy)\n",
        "ConfusionMatrixDisplay.from_predictions(y_train, y_pred)"
      ],
      "metadata": {
        "id": "sOsg77IBzEyo",
        "colab": {
          "base_uri": "https://localhost:8080/",
          "height": 595
        },
        "outputId": "0a25cc42-b6d6-4f70-b584-a7d40135942a"
      },
      "execution_count": 114,
      "outputs": [
        {
          "output_type": "stream",
          "name": "stdout",
          "text": [
            "[0 0 0 0 0 0 0 0 0 0 0 0 0 0 0 0 0 0 0 0 0 0 0 0 0 0 0 0 0 0 0 0 0 0 0 0 0\n",
            " 0 0 0 0 0 0 0 0 0 0 0 0 0 1 1 1 1 1 1 1 1 1 1 1 1 1 1 1 1 1 1 1 1 2 1 1 1\n",
            " 1 1 1 2 1 1 1 1 1 2 1 1 1 1 1 1 1 1 1 1 1 1 1 1 1 1 2 2 2 2 2 2 1 2 2 2 2\n",
            " 2 2 2 2 2 2 2 2 2 2 2 2 2 2 2 2 2 2 2 2 2 2 2 2 2 2 2 2 2 2 2 2 2 2 2 2 2\n",
            " 2 2]\n",
            "[[50  0  0]\n",
            " [ 0 47  3]\n",
            " [ 0  1 49]]\n",
            "Accuracy:  0.9733333333333334\n"
          ]
        },
        {
          "output_type": "stream",
          "name": "stderr",
          "text": [
            "/usr/local/lib/python3.9/dist-packages/sklearn/linear_model/_logistic.py:458: ConvergenceWarning: lbfgs failed to converge (status=1):\n",
            "STOP: TOTAL NO. of ITERATIONS REACHED LIMIT.\n",
            "\n",
            "Increase the number of iterations (max_iter) or scale the data as shown in:\n",
            "    https://scikit-learn.org/stable/modules/preprocessing.html\n",
            "Please also refer to the documentation for alternative solver options:\n",
            "    https://scikit-learn.org/stable/modules/linear_model.html#logistic-regression\n",
            "  n_iter_i = _check_optimize_result(\n"
          ]
        },
        {
          "output_type": "execute_result",
          "data": {
            "text/plain": [
              "<sklearn.metrics._plot.confusion_matrix.ConfusionMatrixDisplay at 0x7f7a4df5d700>"
            ]
          },
          "metadata": {},
          "execution_count": 114
        },
        {
          "output_type": "display_data",
          "data": {
            "text/plain": [
              "<Figure size 432x288 with 2 Axes>"
            ],
            "image/png": "[encoded data removed]"
          },
          "metadata": {
            "needs_background": "light"
          }
        }
      ]
    },
    {
      "cell_type": "markdown",
      "source": [
        "#Task 2. \n",
        "Apply LogisticRegression to **MNIST** dataset (mnist.csv) which aims at classifying handwritten digits. Dataset includes 784 pixels values of images (28x28). \n",
        "\n",
        "\n",
        "```\n",
        "from sklearn import datasets\n",
        "# load the MNIST digits dataset\n",
        "mnist = datasets.load_digits()\n",
        "```\n",
        "\n"
      ],
      "metadata": {
        "id": "S43IoUT-0OQq"
      }
    },
    {
      "cell_type": "code",
      "source": [
        "# code\n",
        "mnist = datasets.load_digits()\n",
        "X_train1 = mnist.data\n",
        "y_train1 = mnist.target\n",
        "# X_train, X_test, y_train, y_test = train_test_split(X, y)\n",
        "regression = LogisticRegression()\n",
        "regression.fit(X_train1, y_train1)\n",
        "y_pred1 = regression.predict(X_train1)\n",
        "accuracy = accuracy_score(y_train1, y_pred1)\n",
        "cm = confusion_matrix(y_train1, y_pred1)\n",
        "print(y_pred1)\n",
        "print(cm)\n",
        "print(\"Accuracy: \", accuracy)\n",
        "ConfusionMatrixDisplay.from_predictions(y_train1, y_pred1)"
      ],
      "metadata": {
        "id": "_xhPpF5b033h",
        "colab": {
          "base_uri": "https://localhost:8080/",
          "height": 643
        },
        "outputId": "eba7b615-a639-4f22-9584-d187f567bb05"
      },
      "execution_count": null,
      "outputs": [
        {
          "output_type": "stream",
          "name": "stdout",
          "text": [
            "[0 1 2 ... 8 9 8]\n",
            "[[178   0   0   0   0   0   0   0   0   0]\n",
            " [  0 182   0   0   0   0   0   0   0   0]\n",
            " [  0   0 177   0   0   0   0   0   0   0]\n",
            " [  0   0   0 183   0   0   0   0   0   0]\n",
            " [  0   0   0   0 181   0   0   0   0   0]\n",
            " [  0   0   0   0   0 182   0   0   0   0]\n",
            " [  0   0   0   0   0   0 181   0   0   0]\n",
            " [  0   0   0   0   0   0   0 179   0   0]\n",
            " [  0   0   0   0   0   0   0   0 174   0]\n",
            " [  0   0   0   0   0   0   0   0   0 180]]\n",
            "Accuracy:  1.0\n"
          ]
        },
        {
          "output_type": "stream",
          "name": "stderr",
          "text": [
            "/usr/local/lib/python3.9/dist-packages/sklearn/linear_model/_logistic.py:458: ConvergenceWarning: lbfgs failed to converge (status=1):\n",
            "STOP: TOTAL NO. of ITERATIONS REACHED LIMIT.\n",
            "\n",
            "Increase the number of iterations (max_iter) or scale the data as shown in:\n",
            "    https://scikit-learn.org/stable/modules/preprocessing.html\n",
            "Please also refer to the documentation for alternative solver options:\n",
            "    https://scikit-learn.org/stable/modules/linear_model.html#logistic-regression\n",
            "  n_iter_i = _check_optimize_result(\n"
          ]
        },
        {
          "output_type": "execute_result",
          "data": {
            "text/plain": [
              "<sklearn.metrics._plot.confusion_matrix.ConfusionMatrixDisplay at 0x7f7a4ecbee20>"
            ]
          },
          "metadata": {},
          "execution_count": 93
        },
        {
          "output_type": "display_data",
          "data": {
            "text/plain": [
              "<Figure size 432x288 with 2 Axes>"
            ],
            "image/png": "[encoded data removed]"
          },
          "metadata": {
            "needs_background": "light"
          }
        }
      ]
    },
    {
      "cell_type": "markdown",
      "source": [
        "#Task 3. \n",
        "Apply another classification algorithm named kNN, which is an instance classifcation model. \n",
        "*  3.1. Perform kNN algorithm to Iris dataset with k={1, 3, 5, …, 29}. Select the best value of k.\n",
        "\n",
        "*   3.2. Then compare the obtained results with those using Logistic regression (based on metrics: accuracy, precision, recall, f1 measure).\n"
      ],
      "metadata": {
        "id": "Rti2y0Wz2KY9"
      }
    },
    {
      "cell_type": "code",
      "source": [
        "# code\n",
        "k_range = range(1, 30,2)\n",
        "for k in k_range:\n",
        "    model = KNeighborsClassifier(n_neighbors = k)\n",
        "    model.fit(X_train, y_train)\n",
        "    y_pred2 = model.predict(X_train)\n",
        "    accuracy = accuracy_score(y_train, y_pred2)\n",
        "    print(\"k = {}: accuracy = {:.2f}%\".format(k, accuracy*100))\n",
        "accuracy = []\n",
        "recall = []\n",
        "precision = []\n",
        "f1_measure = []\n",
        "for k in k_range:\n",
        "    model = KNeighborsClassifier(n_neighbors = k)\n",
        "    model.fit(X_train, y_train)\n",
        "    y_pred2 = model.predict(X_train)\n",
        "    acc = accuracy_score(y_train, y_pred2)\n",
        "    rec = recall_score(y_train, y_pred2, average='macro')\n",
        "    pre = precision_score(y_train, y_pred2, average='macro')\n",
        "    f1 = f1_score(y_train, y_pred2, average='macro')\n",
        "    accuracy.append(acc)\n",
        "    recall.append(rec)\n",
        "    precision.append(pre)\n",
        "    f1_measure.append(f1)\n",
        "plt.plot(k_range, accuracy, label='Accuracy')\n",
        "plt.plot(k_range, recall, label='Recall')\n",
        "plt.plot(k_range, precision, label='Precision')\n",
        "plt.plot(k_range, f1_measure, label='F1')\n",
        "plt.xlabel(\"k\")\n",
        "plt.legend()\n"
      ],
      "metadata": {
        "id": "13LkkfpS2ZUR",
        "colab": {
          "base_uri": "https://localhost:8080/",
          "height": 557
        },
        "outputId": "074e75c1-7d97-4132-a19e-56c549d8e3e6"
      },
      "execution_count": 115,
      "outputs": [
        {
          "output_type": "stream",
          "name": "stdout",
          "text": [
            "k = 1: accuracy = 100.00%\n",
            "k = 3: accuracy = 96.00%\n",
            "k = 5: accuracy = 96.67%\n",
            "k = 7: accuracy = 97.33%\n",
            "k = 9: accuracy = 98.00%\n",
            "k = 11: accuracy = 97.33%\n",
            "k = 13: accuracy = 98.00%\n",
            "k = 15: accuracy = 98.67%\n",
            "k = 17: accuracy = 98.00%\n",
            "k = 19: accuracy = 98.00%\n",
            "k = 21: accuracy = 98.00%\n",
            "k = 23: accuracy = 98.00%\n",
            "k = 25: accuracy = 98.00%\n",
            "k = 27: accuracy = 97.33%\n",
            "k = 29: accuracy = 97.33%\n"
          ]
        },
        {
          "output_type": "execute_result",
          "data": {
            "text/plain": [
              "<matplotlib.legend.Legend at 0x7f7a4df43280>"
            ]
          },
          "metadata": {},
          "execution_count": 115
        },
        {
          "output_type": "display_data",
          "data": {
            "text/plain": [
              "<Figure size 432x288 with 1 Axes>"
            ],
            "image/png": "[encoded data removed]"
          },
          "metadata": {
            "needs_background": "light"
          }
        }
      ]
    },
    {
      "cell_type": "markdown",
      "source": [
        "#Task 4. \n",
        "Similar to Task 3, apply kNN algorithm to **mnist** dataset which included in datasets of sklearn API.\n",
        "*  4.1.\tPerform kNN algorithm to Iris dataset with k={1, 3, 5, …, 29}. Select the best value of k.\n",
        "*  4.2.\tThen compare the obtained results with those using Logistic regression (based on metrics: accuracy, precision, recall, f1 measure).\n"
      ],
      "metadata": {
        "id": "b52OPWPD2afi"
      }
    },
    {
      "cell_type": "code",
      "source": [
        "# code\n",
        "k_range = range(1, 30,2)\n",
        "for k in k_range:\n",
        "    model = KNeighborsClassifier(n_neighbors = k)\n",
        "    model.fit(X_train1, y_train1)\n",
        "    y_pred3 = model.predict(X_train1)\n",
        "    accuracy = accuracy_score(y_train1, y_pred3)\n",
        "    print(\"k = {}: accuracy = {:.2f}%\".format(k, accuracy*100))\n",
        "accuracy = []\n",
        "recall = []\n",
        "precision = []\n",
        "f1_measure = []\n",
        "for k in k_range:\n",
        "    model = KNeighborsClassifier(n_neighbors = k)\n",
        "    model.fit(X_train1, y_train1)\n",
        "    y_pred3 = model.predict(X_train1)\n",
        "    acc = accuracy_score(y_train1, y_pred3)\n",
        "    rec = recall_score(y_train1, y_pred3, average='macro')\n",
        "    pre = precision_score(y_train1, y_pred3, average='macro')\n",
        "    f1 = f1_score(y_train1, y_pred3, average='macro')\n",
        "    accuracy.append(acc)\n",
        "    recall.append(rec)\n",
        "    precision.append(pre)\n",
        "    f1_measure.append(f1)\n",
        "plt.plot(k_range, accuracy, label='Accuracy')\n",
        "plt.plot(k_range, recall, label='Recall')\n",
        "plt.plot(k_range, precision, label='Precision')\n",
        "plt.plot(k_range, f1_measure, label='F1')\n",
        "plt.xlabel(\"k\")\n",
        "plt.legend()\n"
      ],
      "metadata": {
        "id": "Rw_-8FIf2KxW",
        "colab": {
          "base_uri": "https://localhost:8080/",
          "height": 557
        },
        "outputId": "176a5697-19dd-4619-8b46-115c8970cd49"
      },
      "execution_count": null,
      "outputs": [
        {
          "output_type": "stream",
          "name": "stdout",
          "text": [
            "k = 1: accuracy = 100.00%\n",
            "k = 3: accuracy = 99.33%\n",
            "k = 5: accuracy = 99.05%\n",
            "k = 7: accuracy = 99.05%\n",
            "k = 9: accuracy = 98.89%\n",
            "k = 11: accuracy = 98.83%\n",
            "k = 13: accuracy = 98.66%\n",
            "k = 15: accuracy = 98.55%\n",
            "k = 17: accuracy = 98.39%\n",
            "k = 19: accuracy = 98.39%\n",
            "k = 21: accuracy = 98.16%\n",
            "k = 23: accuracy = 97.94%\n",
            "k = 25: accuracy = 97.55%\n",
            "k = 27: accuracy = 97.55%\n",
            "k = 29: accuracy = 97.27%\n"
          ]
        },
        {
          "output_type": "execute_result",
          "data": {
            "text/plain": [
              "<matplotlib.legend.Legend at 0x7f7a4ea79070>"
            ]
          },
          "metadata": {},
          "execution_count": 96
        },
        {
          "output_type": "display_data",
          "data": {
            "text/plain": [
              "<Figure size 432x288 with 1 Axes>"
            ],
            "image/png": "[encoded data removed]"
          },
          "metadata": {
            "needs_background": "light"
          }
        }
      ]
    },
    {
      "cell_type": "markdown",
      "source": [
        "#Task 5. \n",
        "Compare the performance of selected classification algorithms (**Decision Treen, kNN, and Logistic Regression**) to ***spam detection***. The dataset can be accessed from the link: http://archive.ics.uci.edu/ml/datasets/Spambase \n",
        "Attribute Information:\n",
        "The last column of 'spambase.csv denotes whether the e-mail was considered spam (1) or not (0), i.e. unsolicited commercial e-mail. Most of the attributes indicate whether a particular word or character was frequently occuring in the e-mail. The run-length attributes (55-57) measure the length of sequences of consecutive capital letters. For the statistical measures of each attribute, see the end of this file. Here are the definitions of the attributes: \n",
        "*  48 continuous real [0,100] attributes of type word_freq_WORD \n",
        "= percentage of words in the e-mail that match WORD, i.e. 100 * (number of times the WORD appears in the e-mail) / total number of words in e-mail. A \"word\" in this case is any string of alphanumeric characters bounded by non-alphanumeric characters or end-of-string. **Example**: word_freq_address: percentage of words in the e-mail that match ADDRESS.\n",
        "*  6 continuous real [0,100] attributes of type char_freq_CHAR] \n",
        "= percentage of characters in the e-mail that match CHAR, i.e. 100 * (number of CHAR occurences) / total characters in e-mail\n",
        "*  1 continuous real [1,...] attribute of type capital_run_length_average \n",
        "= average length of uninterrupted sequences of capital letters\n",
        "*  1 continuous integer [1,...] attribute of type capital_run_length_longest \n",
        "= length of longest uninterrupted sequence of capital letters\n",
        "*  1 continuous integer [1,...] attribute of type capital_run_length_total = sum of length of uninterrupted sequences of capital letters = total number of capital letters in the e-mail\n",
        "*  1 nominal {0,1} class attribute of type spam = denotes whether the e-mail was considered spam (1) or not (0), i.e. unsolicited commercial e-mail. \n",
        "\n",
        "\n",
        "---\n",
        "\n",
        "\n",
        "In order to compare the performance of selected algorithms, some common metrics including **accuracy, precision, recall, f1 measures** could be used.\n"
      ],
      "metadata": {
        "id": "MVzSk4l505E0"
      }
    },
    {
      "cell_type": "code",
      "source": [
        "# code\n",
        "dataset = pd.read_csv('spambase.csv')\n",
        "dataset\n",
        "X_train = dataset.iloc[: , :57]\n",
        "y_train = dataset.iloc[: , -1]\n",
        "accuracy = []\n",
        "recall = []\n",
        "precision = []\n",
        "f1_measure = []\n",
        "tree_model = DecisionTreeClassifier()\n",
        "kNN_model= KNeighborsClassifier()\n",
        "regress_model = LogisticRegression()\n",
        "tree_model.fit(X_train, y_train)\n",
        "kNN_model.fit(X_train, y_train)\n",
        "regress_model.fit(X_train, y_train)\n",
        "y_predTree = tree_model.predict(X_train)\n",
        "y_predkNN =kNN_model.predict(X_train)\n",
        "y_predRegres =regress_model.predict(X_train)\n",
        "accuracy.append(accuracy_score(y_train, y_predTree))\n",
        "accuracy.append(accuracy_score(y_train, y_predkNN))\n",
        "accuracy.append(accuracy_score(y_train, y_predRegres))\n",
        "precision.append(precision_score(y_train, y_predTree, average='macro'))\n",
        "precision.append(precision_score(y_train, y_predkNN, average='macro'))\n",
        "precision.append(precision_score(y_train, y_predRegres, average='macro'))\n",
        "recall.append(recall_score(y_train, y_predTree, average='macro'))\n",
        "recall.append(recall_score(y_train, y_predkNN, average='macro'))\n",
        "recall.append(recall_score(y_train, y_predRegres, average='macro'))\n",
        "f1_measure.append(f1_score(y_train, y_predTree, average='macro'))\n",
        "f1_measure.append(f1_score(y_train, y_predkNN, average='macro'))\n",
        "f1_measure.append(f1_score(y_train, y_predRegres, average='macro'))\n",
        "List = pd.DataFrame({ 'Accuracy': accuracy, 'Precision': precision, 'Recall': recall, 'F1': f1_measure}, index=['DecisionTree','KNeighbors', 'LogisticReg'])\n",
        "print(List)\n",
        "print('\\nDecisionTree')\n",
        "print(confusion_matrix(y_train, y_predTree))\n",
        "print('\\nKNeighbors')\n",
        "print(confusion_matrix(y_train, y_predkNN))\n",
        "print('\\nLogisticReg')\n",
        "print(confusion_matrix(y_train, y_predRegres))"
      ],
      "metadata": {
        "id": "W_1v_ivR2f6D",
        "colab": {
          "base_uri": "https://localhost:8080/"
        },
        "outputId": "ac915814-26fe-4c6b-f7a1-b2ff71d0668c"
      },
      "execution_count": 118,
      "outputs": [
        {
          "output_type": "stream",
          "name": "stderr",
          "text": [
            "/usr/local/lib/python3.9/dist-packages/sklearn/linear_model/_logistic.py:458: ConvergenceWarning: lbfgs failed to converge (status=1):\n",
            "STOP: TOTAL NO. of ITERATIONS REACHED LIMIT.\n",
            "\n",
            "Increase the number of iterations (max_iter) or scale the data as shown in:\n",
            "    https://scikit-learn.org/stable/modules/preprocessing.html\n",
            "Please also refer to the documentation for alternative solver options:\n",
            "    https://scikit-learn.org/stable/modules/linear_model.html#logistic-regression\n",
            "  n_iter_i = _check_optimize_result(\n"
          ]
        },
        {
          "output_type": "stream",
          "name": "stdout",
          "text": [
            "              Accuracy  Precision    Recall        F1\n",
            "DecisionTree  0.999348   0.999463  0.999173  0.999317\n",
            "KNeighbors    0.872419   0.866978  0.865311  0.866120\n",
            "LogisticReg   0.923712   0.920567  0.919498  0.920024\n",
            "\n",
            "DecisionTree\n",
            "[[2788    0]\n",
            " [   3 1810]]\n",
            "\n",
            "KNeighbors\n",
            "[[2506  282]\n",
            " [ 305 1508]]\n",
            "\n",
            "LogisticReg\n",
            "[[2619  169]\n",
            " [ 182 1631]]\n"
          ]
        }
      ]
    },
    {
      "cell_type": "markdown",
      "source": [
        "#Finally,\n",
        "Save a copy in your Github. Remember renaming the notebook."
      ],
      "metadata": {
        "id": "Ok7RGkea_b7n"
      }
    }
  ]
}